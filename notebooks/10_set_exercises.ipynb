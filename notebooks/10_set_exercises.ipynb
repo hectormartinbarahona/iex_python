{
 "cells": [
  {
   "cell_type": "markdown",
   "metadata": {},
   "source": [
    "### Exercise 1. Update the set  `color_set`with the items on the list `color_list`\n",
    "\n",
    "#### Expected output\n",
    "\n",
    "```python\n",
    "{'Black', 'Blue', 'Green', 'Orange', 'Red', 'Yellow'}\n",
    "```"
   ]
  },
  {
   "cell_type": "code",
   "execution_count": 3,
   "metadata": {},
   "outputs": [],
   "source": [
    "color_set = {\"Yellow\", \"Orange\", \"Black\"}\n",
    "color_list = [\"Blue\", \"Green\", \"Red\"]"
   ]
  },
  {
   "cell_type": "markdown",
   "metadata": {},
   "source": [
    "### Exercise 2. Create a set with the elements that shared by `set_a` and `set_b`\n",
    "#### Expected output\n",
    "\n",
    "```python\n",
    "{30, 40, 50}\n",
    "```"
   ]
  },
  {
   "cell_type": "code",
   "execution_count": 4,
   "metadata": {},
   "outputs": [],
   "source": [
    "set_a = {10, 20, 30, 40, 50}\n",
    "set_b = {30, 40, 50, 60, 70}"
   ]
  },
  {
   "cell_type": "markdown",
   "metadata": {},
   "source": [
    "### Exercise 3. Create a set with the unique values of `set_a` and `set_b`\n",
    "#### Expected output\n",
    "\n",
    "```python\n",
    "{10, 20, 30, 40, 50, 60, 70}\n",
    "```"
   ]
  },
  {
   "cell_type": "markdown",
   "metadata": {},
   "source": [
    "### Exercise 4. Create a set wit the elements in `set_a` but not in `set_b` without chaging `set_a`\n",
    "#### Expected output\n",
    "\n",
    "```python\n",
    "{10, 20}\n",
    "```"
   ]
  },
  {
   "cell_type": "markdown",
   "metadata": {},
   "source": [
    "### Exercise 5. Create a set wit the elements in `set_b` but not in `set_a` without chaging `set_b`\n",
    "#### Expected output\n",
    "\n",
    "```python\n",
    "{60, 70}\n",
    "```"
   ]
  },
  {
   "cell_type": "markdown",
   "metadata": {},
   "source": [
    "### Exercise 6. Create a `set` with elements in `set_a` which are not in `set_b` and elements in `set_b` which are not in `set_a` \n",
    "#### Expected output\n",
    "\n",
    "```python\n",
    "{10, 20, 60, 70}\n",
    "```"
   ]
  },
  {
   "cell_type": "markdown",
   "metadata": {},
   "source": [
    "### Exercise 7. Add `60` to set_a\n",
    "#### Expected output\n",
    "\n",
    "```python\n",
    "{10, 20, 30, 40, 50, 60}\n",
    "```"
   ]
  },
  {
   "cell_type": "markdown",
   "metadata": {},
   "source": [
    "### Exercise 8. Remove `60` from `set_b`\n",
    "#### Expected output\n",
    "\n",
    "```python\n",
    "{30, 40, 50, 70}\n",
    "```"
   ]
  },
  {
   "cell_type": "markdown",
   "metadata": {},
   "source": [
    "### Exercise 9. Clear all elements of `color_set`\n",
    "#### Expected output\n",
    "\n",
    "```python\n",
    "set()\n",
    "```"
   ]
  },
  {
   "cell_type": "markdown",
   "metadata": {},
   "source": [
    "### Exercise 10. Remove again the element 60 from `set_b`\n",
    "#### Expected output\n",
    "\n",
    "```python\n",
    "{30, 40, 50, 70}\n",
    "```"
   ]
  },
  {
   "cell_type": "markdown",
   "metadata": {},
   "source": [
    "### Exercise 11. Create a function that takes a string and return a set of tuples with the unique letters and its frequency\n",
    "```python\n",
    "def count_letters(string):\n",
    "    # do something\n",
    "    return {(letter, frequency), (letter, frequency) ... }\n",
    "\n",
    "count_letters('Ouagadougou')\n",
    "{('a', 2), ('d', 1), ('g', 2), ('o', 2), ('u', 3)}\n",
    "```"
   ]
  }
 ],
 "metadata": {
  "kernelspec": {
   "display_name": "Python 3",
   "language": "python",
   "name": "python3"
  },
  "language_info": {
   "codemirror_mode": {
    "name": "ipython",
    "version": 3
   },
   "file_extension": ".py",
   "mimetype": "text/x-python",
   "name": "python",
   "nbconvert_exporter": "python",
   "pygments_lexer": "ipython3",
   "version": "3.8.3"
  }
 },
 "nbformat": 4,
 "nbformat_minor": 4
}
