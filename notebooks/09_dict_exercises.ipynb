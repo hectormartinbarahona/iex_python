{
 "cells": [
  {
   "cell_type": "markdown",
   "metadata": {},
   "source": [
    "### Exercise 1. Creates a dictionary using two lists"
   ]
  },
  {
   "cell_type": "code",
   "execution_count": 3,
   "metadata": {},
   "outputs": [],
   "source": [
    "names = ['Chandler', 'Phoebe',  'Monika', 'Joey' ]\n",
    "ages = [ 25,  28, 27,  26 ]"
   ]
  },
  {
   "cell_type": "markdown",
   "metadata": {},
   "source": [
    "#### Expected output\n",
    "```python\n",
    "{'Chandler': 25, 'Phoebe': 28, 'Monika': 27, 'Joey': 26}\n",
    "```"
   ]
  },
  {
   "cell_type": "markdown",
   "metadata": {},
   "source": [
    "### Exercise 2. Merge following two Python dictionaries into one\n",
    "#### Expected output\n",
    "```python\n",
    "{'Chandler': 25,\n",
    " 'Phoebe': 28,\n",
    " 'Monika': 27,\n",
    " 'Joey': 26,\n",
    " 'Rachel': 24,\n",
    " 'Ross': 27}\n",
    "```"
   ]
  },
  {
   "cell_type": "code",
   "execution_count": 4,
   "metadata": {},
   "outputs": [],
   "source": [
    "d_new = {'Rachel': 24, 'Ross' : 27}"
   ]
  },
  {
   "cell_type": "markdown",
   "metadata": {},
   "source": [
    "### Exercise 3. Check keys\n",
    "#### Expected output\n",
    "```python\n",
    "dict_keys(['Chandler', 'Phoebe', 'Monika', 'Joey', 'Rachel', 'Ross'])\n",
    "```"
   ]
  },
  {
   "cell_type": "markdown",
   "metadata": {},
   "source": [
    "### Exercise 4. Check values\n",
    "#### Expected output\n",
    "```python\n",
    "dict_values([25, 28, 27, 26, 24, 27])\n",
    "```"
   ]
  },
  {
   "cell_type": "markdown",
   "metadata": {},
   "source": [
    "### Exercise 5. Check items\n",
    "#### Expected output\n",
    "```python\n",
    "dict_items([('Chandler', 25), ('Phoebe', 28), ('Monika', 27), ('Joey', 26), ('Rachel', 24), ('Ross', 27)])\n",
    "```"
   ]
  },
  {
   "cell_type": "markdown",
   "metadata": {},
   "source": [
    "### Exercise 6. Add one year\n",
    "#### Expected output\n",
    "```python\n",
    "{'Chandler': 26,\n",
    " 'Phoebe': 29,\n",
    " 'Monika': 28,\n",
    " 'Joey': 27,\n",
    " 'Rachel': 25,\n",
    " 'Ross': 28}\n",
    "```"
   ]
  },
  {
   "cell_type": "markdown",
   "metadata": {},
   "source": [
    "### Exercise 8.  Create a dictionary with phones, called it `d_phones`\n",
    "#### Expected output\n",
    "```python\n",
    "{'Chandler': '+34-755-5664',\n",
    " 'Phoebe': '+34-755-5904',\n",
    " 'Monika': '+34-655-5297',\n",
    " 'Joey': '+34-655-5722',\n",
    " 'Rachel': '+34-655-5722',\n",
    " 'Ross': '+34-635-6712'}\n",
    "```"
   ]
  },
  {
   "cell_type": "code",
   "execution_count": 5,
   "metadata": {},
   "outputs": [],
   "source": [
    "phones = [\"+34-755-5664\", \"+34-755-5904\", \"+34-655-5297\", \"+34-655-5722\", \"+34-655-5722\", \"+34-635-6712\"]"
   ]
  },
  {
   "cell_type": "markdown",
   "metadata": {},
   "source": [
    "### Exercise 9. Merge both using tuples\n",
    "#### Expected output\n",
    "```python\n",
    "{'Chandler': (26, '+34-755-5664'),\n",
    " 'Phoebe': (29, '+34-755-5904'),\n",
    " 'Monika': (28, '+34-655-5297'),\n",
    " 'Joey': (27, '+34-655-5722'),\n",
    " 'Rachel': (25, '+34-655-5722'),\n",
    " 'Ross': (28, '+34-635-6712')}\n",
    "```"
   ]
  },
  {
   "cell_type": "markdown",
   "metadata": {},
   "source": [
    "### Exercise 10. Merge both using dictionarys\n",
    "#### Expected output\n",
    "```python\n",
    "{'Chandler': {'age': 26, 'phone': '+34-755-5664'},\n",
    " 'Phoebe': {'age': 29, 'phone': '+34-755-5904'},\n",
    " 'Monika': {'age': 28, 'phone': '+34-655-5297'},\n",
    " 'Joey': {'age': 27, 'phone': '+34-655-5722'},\n",
    " 'Rachel': {'age': 25, 'phone': '+34-655-5722'},\n",
    " 'Ross': {'age': 28, 'phone': '+34-635-6712'}}\n",
    "```"
   ]
  },
  {
   "cell_type": "markdown",
   "metadata": {},
   "source": [
    "### Exercise 11. Create a function called `shop` that takes the `shopping_list` dictionary, the `stock` and the `price` dictionary and return a dictionary like the one in **expeced output**\n",
    "\n",
    "```python\n",
    "shopping_list = {'banana':2, 'apple':2, 'orange':10, 'pear':20, 'melon': 3}\n",
    "\n",
    "def shop(shopping_list, stocks, prices):\n",
    "    # do the shopping\n",
    "    return shopping\n",
    "\n",
    "expected output\n",
    "{'banana': {'quantity': 2, 'unit_price': 4, 'price': 8},\n",
    " 'apple': {'quantity': 0, 'unit_price': 2, 'price': 0},\n",
    " 'orange': {'quantity': 10, 'unit_price': 1.5, 'price': 15.0},\n",
    " 'pear': {'quantity': 15, 'unit_price': 3, 'price': 45},\n",
    " 'total_price': 68.0}\n",
    "\n",
    "```"
   ]
  },
  {
   "cell_type": "code",
   "execution_count": 6,
   "metadata": {},
   "outputs": [],
   "source": [
    "stocks = {'banana': 6, 'apple': 0, 'orange': 32, 'pear': 15}\n",
    "prices = {'banana': 4, 'apple': 2, 'orange': 1.5, 'pear': 3}\n",
    "shopping_list = {'banana':2, 'apple':2, 'orange':10, 'pear':20, 'melon': 3}"
   ]
  }
 ],
 "metadata": {
  "kernelspec": {
   "display_name": "Python 3",
   "language": "python",
   "name": "python3"
  },
  "language_info": {
   "codemirror_mode": {
    "name": "ipython",
    "version": 3
   },
   "file_extension": ".py",
   "mimetype": "text/x-python",
   "name": "python",
   "nbconvert_exporter": "python",
   "pygments_lexer": "ipython3",
   "version": "3.8.3"
  }
 },
 "nbformat": 4,
 "nbformat_minor": 4
}
