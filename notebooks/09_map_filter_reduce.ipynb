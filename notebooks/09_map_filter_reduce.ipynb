{
 "cells": [
  {
   "cell_type": "code",
   "execution_count": 3,
   "metadata": {},
   "outputs": [
    {
     "data": {
      "text/html": [
       "<img src=\"https://github.com/imcodingideas/map-filter-reduce-exercises/blob/master/map-filter-reduce.png?raw=true\" width=\"500\" height=\"100\"/>"
      ],
      "text/plain": [
       "<IPython.core.display.Image object>"
      ]
     },
     "execution_count": 3,
     "metadata": {},
     "output_type": "execute_result"
    }
   ],
   "source": [
    "from IPython.display import Image\n",
    "from IPython.core.display import HTML \n",
    "Image(url= \"https://github.com/imcodingideas/map-filter-reduce-exercises/blob/master/map-filter-reduce.png?raw=true\",\n",
    "      height=100,width=500)"
   ]
  },
  {
   "cell_type": "code",
   "execution_count": 4,
   "metadata": {},
   "outputs": [
    {
     "data": {
      "text/html": [
       "<img src=\"https://miro.medium.com/max/2976/1*KKm4roOpsum147kKk5qp7A.jpeg\" width=\"1000\" height=\"100\"/>"
      ],
      "text/plain": [
       "<IPython.core.display.Image object>"
      ]
     },
     "execution_count": 4,
     "metadata": {},
     "output_type": "execute_result"
    }
   ],
   "source": [
    "Image(url= \"https://miro.medium.com/max/2976/1*KKm4roOpsum147kKk5qp7A.jpeg\",height=100,width=1000)"
   ]
  },
  {
   "cell_type": "code",
   "execution_count": 5,
   "metadata": {},
   "outputs": [
    {
     "data": {
      "text/html": [
       "<img src=\"https://www.wshu.org/sites/wshu/files/202002/subway_apcoreyperrine_200206.jpg\" width=\"1000\" height=\"100\"/>"
      ],
      "text/plain": [
       "<IPython.core.display.Image object>"
      ]
     },
     "execution_count": 5,
     "metadata": {},
     "output_type": "execute_result"
    }
   ],
   "source": [
    "Image(url= \"https://www.wshu.org/sites/wshu/files/202002/subway_apcoreyperrine_200206.jpg\",height=100,width=1000)"
   ]
  },
  {
   "cell_type": "markdown",
   "metadata": {
    "colab_type": "text",
    "id": "U42nwqwbK_IV"
   },
   "source": [
    "# Map\n",
    "The Map function allows to have a function quickly be applied to all the elements of an iterable object, like a list.\n",
    "Let’s see how this works by having a simple function that returns the square of a number and use the map function to call it for every item of a list.\n",
    "\n",
    "The map function call looks like this: \n",
    "\n",
    "`map(function_name,iterable_variable)`"
   ]
  },
  {
   "cell_type": "code",
   "execution_count": 8,
   "metadata": {
    "colab": {},
    "colab_type": "code",
    "id": "EUkIlt30LSGa"
   },
   "outputs": [],
   "source": [
    "numbers = [2, 5, 6, 7, 13, 18, 20]"
   ]
  },
  {
   "cell_type": "markdown",
   "metadata": {
    "colab_type": "text",
    "id": "86xx1wr8LODU"
   },
   "source": [
    "### Comprehension list"
   ]
  },
  {
   "cell_type": "code",
   "execution_count": 9,
   "metadata": {
    "colab": {
     "base_uri": "https://localhost:8080/",
     "height": 34
    },
    "colab_type": "code",
    "executionInfo": {
     "elapsed": 709,
     "status": "ok",
     "timestamp": 1576004321484,
     "user": {
      "displayName": "Francisco Diego",
      "photoUrl": "https://lh3.googleusercontent.com/a-/AAuE7mASCUR7tDkrZJXEtsj8lPvJyPyLkYNBRDw71yshAw=s64",
      "userId": "03428838619161209840"
     },
     "user_tz": -60
    },
    "id": "kcIoAuuYLKZr",
    "outputId": "1bd439e1-7da4-4f22-912d-d9f9207ef387"
   },
   "outputs": [
    {
     "data": {
      "text/plain": [
       "[4, 25, 36, 49, 169, 324, 400]"
      ]
     },
     "execution_count": 9,
     "metadata": {},
     "output_type": "execute_result"
    }
   ],
   "source": [
    "[i**2 for i in numbers]"
   ]
  },
  {
   "cell_type": "markdown",
   "metadata": {
    "colab_type": "text",
    "id": "7IvxqULGLZeb"
   },
   "source": [
    "### Map"
   ]
  },
  {
   "cell_type": "code",
   "execution_count": 10,
   "metadata": {
    "colab": {
     "base_uri": "https://localhost:8080/",
     "height": 34
    },
    "colab_type": "code",
    "executionInfo": {
     "elapsed": 756,
     "status": "ok",
     "timestamp": 1576004348095,
     "user": {
      "displayName": "Francisco Diego",
      "photoUrl": "https://lh3.googleusercontent.com/a-/AAuE7mASCUR7tDkrZJXEtsj8lPvJyPyLkYNBRDw71yshAw=s64",
      "userId": "03428838619161209840"
     },
     "user_tz": -60
    },
    "id": "3DmYXAG0LbW1",
    "outputId": "dafbda53-b0b6-40ce-bdb3-616da0c418c3"
   },
   "outputs": [
    {
     "data": {
      "text/plain": [
       "<map at 0x7fdd409c1280>"
      ]
     },
     "execution_count": 10,
     "metadata": {},
     "output_type": "execute_result"
    }
   ],
   "source": [
    "map(lambda i:i**2,numbers)"
   ]
  },
  {
   "cell_type": "markdown",
   "metadata": {
    "colab_type": "text",
    "id": "PFuTp-9RLfZH"
   },
   "source": [
    "###### To evaluate the map (use something like list() or other function)"
   ]
  },
  {
   "cell_type": "code",
   "execution_count": 11,
   "metadata": {
    "colab": {
     "base_uri": "https://localhost:8080/",
     "height": 34
    },
    "colab_type": "code",
    "executionInfo": {
     "elapsed": 669,
     "status": "ok",
     "timestamp": 1576004384334,
     "user": {
      "displayName": "Francisco Diego",
      "photoUrl": "https://lh3.googleusercontent.com/a-/AAuE7mASCUR7tDkrZJXEtsj8lPvJyPyLkYNBRDw71yshAw=s64",
      "userId": "03428838619161209840"
     },
     "user_tz": -60
    },
    "id": "AfEIyLDXLksM",
    "outputId": "a9569d32-22c4-49bb-e538-f9a40438bc73"
   },
   "outputs": [
    {
     "data": {
      "text/plain": [
       "[4, 25, 36, 49, 169, 324, 400]"
      ]
     },
     "execution_count": 11,
     "metadata": {},
     "output_type": "execute_result"
    }
   ],
   "source": [
    "list(map(lambda i:i**2,numbers))"
   ]
  },
  {
   "cell_type": "markdown",
   "metadata": {
    "colab_type": "text",
    "id": "zh04fv-JLn2s"
   },
   "source": [
    "###### Remember that the operation is stored only once"
   ]
  },
  {
   "cell_type": "code",
   "execution_count": 12,
   "metadata": {
    "colab": {},
    "colab_type": "code",
    "id": "rRAfAMmfLrnG"
   },
   "outputs": [],
   "source": [
    "m = map(lambda i:i**2,numbers)"
   ]
  },
  {
   "cell_type": "code",
   "execution_count": 13,
   "metadata": {
    "colab": {
     "base_uri": "https://localhost:8080/",
     "height": 34
    },
    "colab_type": "code",
    "executionInfo": {
     "elapsed": 586,
     "status": "ok",
     "timestamp": 1576004427927,
     "user": {
      "displayName": "Francisco Diego",
      "photoUrl": "https://lh3.googleusercontent.com/a-/AAuE7mASCUR7tDkrZJXEtsj8lPvJyPyLkYNBRDw71yshAw=s64",
      "userId": "03428838619161209840"
     },
     "user_tz": -60
    },
    "id": "rq5F2LejLwjz",
    "outputId": "b0639b67-eae3-45f4-d14b-93229ee0dff0"
   },
   "outputs": [
    {
     "data": {
      "text/plain": [
       "[4, 25, 36, 49, 169, 324, 400]"
      ]
     },
     "execution_count": 13,
     "metadata": {},
     "output_type": "execute_result"
    }
   ],
   "source": [
    "list(m)"
   ]
  },
  {
   "cell_type": "code",
   "execution_count": 14,
   "metadata": {
    "colab": {
     "base_uri": "https://localhost:8080/",
     "height": 34
    },
    "colab_type": "code",
    "executionInfo": {
     "elapsed": 667,
     "status": "ok",
     "timestamp": 1576004432446,
     "user": {
      "displayName": "Francisco Diego",
      "photoUrl": "https://lh3.googleusercontent.com/a-/AAuE7mASCUR7tDkrZJXEtsj8lPvJyPyLkYNBRDw71yshAw=s64",
      "userId": "03428838619161209840"
     },
     "user_tz": -60
    },
    "id": "BCU2ogykLwl9",
    "outputId": "b06355d5-c1f8-4b16-f786-e657c9b7741e"
   },
   "outputs": [
    {
     "data": {
      "text/plain": [
       "[]"
      ]
     },
     "execution_count": 14,
     "metadata": {},
     "output_type": "execute_result"
    }
   ],
   "source": [
    "list(m)"
   ]
  },
  {
   "cell_type": "markdown",
   "metadata": {
    "colab_type": "text",
    "id": "e5UavWL3L11x"
   },
   "source": [
    "##### Map with a functions (we can remove lambda expresion)"
   ]
  },
  {
   "cell_type": "code",
   "execution_count": 15,
   "metadata": {
    "colab": {},
    "colab_type": "code",
    "id": "Kn14t1sCL67J"
   },
   "outputs": [],
   "source": [
    "def square(n):\n",
    "    return n**2"
   ]
  },
  {
   "cell_type": "code",
   "execution_count": 16,
   "metadata": {
    "colab": {
     "base_uri": "https://localhost:8080/",
     "height": 34
    },
    "colab_type": "code",
    "executionInfo": {
     "elapsed": 659,
     "status": "ok",
     "timestamp": 1576004503019,
     "user": {
      "displayName": "Francisco Diego",
      "photoUrl": "https://lh3.googleusercontent.com/a-/AAuE7mASCUR7tDkrZJXEtsj8lPvJyPyLkYNBRDw71yshAw=s64",
      "userId": "03428838619161209840"
     },
     "user_tz": -60
    },
    "id": "ZxPjAhxUMCC5",
    "outputId": "58ea6acb-0d55-4f77-892c-89e4e8eb3379"
   },
   "outputs": [
    {
     "data": {
      "text/plain": [
       "[4, 25, 36, 49, 169, 324, 400]"
      ]
     },
     "execution_count": 16,
     "metadata": {},
     "output_type": "execute_result"
    }
   ],
   "source": [
    "list(map(lambda i:square(i),numbers))"
   ]
  },
  {
   "cell_type": "code",
   "execution_count": 17,
   "metadata": {
    "colab": {
     "base_uri": "https://localhost:8080/",
     "height": 34
    },
    "colab_type": "code",
    "executionInfo": {
     "elapsed": 597,
     "status": "ok",
     "timestamp": 1576004490420,
     "user": {
      "displayName": "Francisco Diego",
      "photoUrl": "https://lh3.googleusercontent.com/a-/AAuE7mASCUR7tDkrZJXEtsj8lPvJyPyLkYNBRDw71yshAw=s64",
      "userId": "03428838619161209840"
     },
     "user_tz": -60
    },
    "id": "jniPPMIwL9qm",
    "outputId": "60679e09-e89d-4a9b-d1a6-95ac9ee80062"
   },
   "outputs": [
    {
     "data": {
      "text/plain": [
       "[4, 25, 36, 49, 169, 324, 400]"
      ]
     },
     "execution_count": 17,
     "metadata": {},
     "output_type": "execute_result"
    }
   ],
   "source": [
    "list(map(square,numbers))"
   ]
  },
  {
   "cell_type": "markdown",
   "metadata": {
    "colab_type": "text",
    "id": "EycBE9i1MLS8"
   },
   "source": [
    "#  **filter** \n",
    "Filter is similar to map, in the sense we have a function which we can apply to elements of an iterator object, like a list. The function we apply however, must return a True or False result.\n",
    "Filter returns an iterator object that contains the elements which have the applied function return True.\n",
    "\n",
    "\n",
    "The filter function call is very similar to map: \n",
    "\n",
    "`filter(function_name,iterable_variable)`\n",
    "\n",
    "Let's filter only even numbers\n"
   ]
  },
  {
   "cell_type": "code",
   "execution_count": 18,
   "metadata": {
    "colab": {
     "base_uri": "https://localhost:8080/",
     "height": 34
    },
    "colab_type": "code",
    "executionInfo": {
     "elapsed": 622,
     "status": "ok",
     "timestamp": 1576004588476,
     "user": {
      "displayName": "Francisco Diego",
      "photoUrl": "https://lh3.googleusercontent.com/a-/AAuE7mASCUR7tDkrZJXEtsj8lPvJyPyLkYNBRDw71yshAw=s64",
      "userId": "03428838619161209840"
     },
     "user_tz": -60
    },
    "id": "Dy5PL_AAMQHo",
    "outputId": "468409b5-da90-4a1c-820e-89740ab6a777"
   },
   "outputs": [
    {
     "data": {
      "text/plain": [
       "<filter at 0x7fdd409bf970>"
      ]
     },
     "execution_count": 18,
     "metadata": {},
     "output_type": "execute_result"
    }
   ],
   "source": [
    "filter(lambda i:i%2==0,numbers)"
   ]
  },
  {
   "cell_type": "code",
   "execution_count": 19,
   "metadata": {
    "colab": {
     "base_uri": "https://localhost:8080/",
     "height": 34
    },
    "colab_type": "code",
    "executionInfo": {
     "elapsed": 619,
     "status": "ok",
     "timestamp": 1576004593707,
     "user": {
      "displayName": "Francisco Diego",
      "photoUrl": "https://lh3.googleusercontent.com/a-/AAuE7mASCUR7tDkrZJXEtsj8lPvJyPyLkYNBRDw71yshAw=s64",
      "userId": "03428838619161209840"
     },
     "user_tz": -60
    },
    "id": "WL2xoxaRMZDl",
    "outputId": "02740747-e35c-49d4-8383-c54597cd946f"
   },
   "outputs": [
    {
     "data": {
      "text/plain": [
       "[2, 6, 18, 20]"
      ]
     },
     "execution_count": 19,
     "metadata": {},
     "output_type": "execute_result"
    }
   ],
   "source": [
    "list(filter(lambda i:i%2==0,numbers))"
   ]
  },
  {
   "cell_type": "markdown",
   "metadata": {
    "colab_type": "text",
    "id": "1C9_xWsrMbfh"
   },
   "source": [
    "###### Here again the operation is stored once"
   ]
  },
  {
   "cell_type": "code",
   "execution_count": 20,
   "metadata": {
    "colab": {
     "base_uri": "https://localhost:8080/",
     "height": 51
    },
    "colab_type": "code",
    "executionInfo": {
     "elapsed": 592,
     "status": "ok",
     "timestamp": 1576004631862,
     "user": {
      "displayName": "Francisco Diego",
      "photoUrl": "https://lh3.googleusercontent.com/a-/AAuE7mASCUR7tDkrZJXEtsj8lPvJyPyLkYNBRDw71yshAw=s64",
      "userId": "03428838619161209840"
     },
     "user_tz": -60
    },
    "id": "Ff8W-7LsMaVz",
    "outputId": "12f6d7a2-2a4e-4edd-a20c-ba5c5cfae8f8"
   },
   "outputs": [
    {
     "name": "stdout",
     "output_type": "stream",
     "text": [
      "[2, 6, 18, 20]\n",
      "[]\n"
     ]
    }
   ],
   "source": [
    "f = filter(lambda i:i%2==0,numbers)\n",
    "print(list(f))\n",
    "print(list(f))"
   ]
  },
  {
   "cell_type": "markdown",
   "metadata": {
    "colab_type": "text",
    "id": "FHLTTzOiMnCw"
   },
   "source": [
    "###### And we can olso remove the lambda expresion"
   ]
  },
  {
   "cell_type": "code",
   "execution_count": 21,
   "metadata": {
    "colab": {},
    "colab_type": "code",
    "id": "NmVbYEooMjml"
   },
   "outputs": [],
   "source": [
    "def is_even(n):\n",
    "    return n%2==0"
   ]
  },
  {
   "cell_type": "code",
   "execution_count": 22,
   "metadata": {
    "colab": {
     "base_uri": "https://localhost:8080/",
     "height": 34
    },
    "colab_type": "code",
    "executionInfo": {
     "elapsed": 615,
     "status": "ok",
     "timestamp": 1576004685010,
     "user": {
      "displayName": "Francisco Diego",
      "photoUrl": "https://lh3.googleusercontent.com/a-/AAuE7mASCUR7tDkrZJXEtsj8lPvJyPyLkYNBRDw71yshAw=s64",
      "userId": "03428838619161209840"
     },
     "user_tz": -60
    },
    "id": "Bem989XBMvHp",
    "outputId": "51157a7d-ce54-4ed1-b04a-b888920ccb2e"
   },
   "outputs": [
    {
     "data": {
      "text/plain": [
       "[2, 6, 18, 20]"
      ]
     },
     "execution_count": 22,
     "metadata": {},
     "output_type": "execute_result"
    }
   ],
   "source": [
    "list(filter(lambda i:i%2==0,numbers))"
   ]
  },
  {
   "cell_type": "code",
   "execution_count": 23,
   "metadata": {
    "colab": {
     "base_uri": "https://localhost:8080/",
     "height": 34
    },
    "colab_type": "code",
    "executionInfo": {
     "elapsed": 716,
     "status": "ok",
     "timestamp": 1576004690270,
     "user": {
      "displayName": "Francisco Diego",
      "photoUrl": "https://lh3.googleusercontent.com/a-/AAuE7mASCUR7tDkrZJXEtsj8lPvJyPyLkYNBRDw71yshAw=s64",
      "userId": "03428838619161209840"
     },
     "user_tz": -60
    },
    "id": "1PWhufYjMwoR",
    "outputId": "177c8ddc-9387-435f-fae9-c5efadb989b6"
   },
   "outputs": [
    {
     "data": {
      "text/plain": [
       "[2, 6, 18, 20]"
      ]
     },
     "execution_count": 23,
     "metadata": {},
     "output_type": "execute_result"
    }
   ],
   "source": [
    "list(filter(is_even,numbers))"
   ]
  },
  {
   "cell_type": "markdown",
   "metadata": {
    "colab_type": "text",
    "id": "ZxMXBWwaNsT2"
   },
   "source": [
    "# **reduce**"
   ]
  },
  {
   "cell_type": "markdown",
   "metadata": {
    "colab_type": "text",
    "id": "UIuw9W7fNj_p"
   },
   "source": [
    "reduce is a really useful function for performing some computation on a list and returning the result. It applies a rolling computation to sequential pairs of values in a list. For example, if you wanted to compute the product of a list of integers.\n",
    "\n",
    "Remember, if you want to use reduce:\n",
    "`from functools import reduce`"
   ]
  },
  {
   "cell_type": "code",
   "execution_count": 26,
   "metadata": {
    "colab": {},
    "colab_type": "code",
    "id": "C3r-1nstMx47"
   },
   "outputs": [],
   "source": [
    "from functools import reduce"
   ]
  },
  {
   "cell_type": "code",
   "execution_count": 29,
   "metadata": {},
   "outputs": [
    {
     "data": {
      "text/plain": [
       "[2, 5, 6, 7, 13, 18, 20]"
      ]
     },
     "execution_count": 29,
     "metadata": {},
     "output_type": "execute_result"
    }
   ],
   "source": [
    "numbers"
   ]
  },
  {
   "cell_type": "code",
   "execution_count": 27,
   "metadata": {
    "colab": {
     "base_uri": "https://localhost:8080/",
     "height": 34
    },
    "colab_type": "code",
    "executionInfo": {
     "elapsed": 545,
     "status": "ok",
     "timestamp": 1576005071676,
     "user": {
      "displayName": "Francisco Diego",
      "photoUrl": "https://lh3.googleusercontent.com/a-/AAuE7mASCUR7tDkrZJXEtsj8lPvJyPyLkYNBRDw71yshAw=s64",
      "userId": "03428838619161209840"
     },
     "user_tz": -60
    },
    "id": "nwzClk9tN087",
    "outputId": "d7bdd192-365d-47e7-c67a-f8cbd93450b7"
   },
   "outputs": [
    {
     "data": {
      "text/plain": [
       "71"
      ]
     },
     "execution_count": 27,
     "metadata": {},
     "output_type": "execute_result"
    }
   ],
   "source": [
    "reduce(lambda i,j:i+j,numbers)"
   ]
  },
  {
   "cell_type": "code",
   "execution_count": null,
   "metadata": {},
   "outputs": [],
   "source": []
  }
 ],
 "metadata": {
  "colab": {
   "collapsed_sections": [],
   "name": "map_filter_reduce.ipynb",
   "provenance": [
    {
     "file_id": "1XeHj_0mAQBY5Gu4IXMjnh59-cZsyAcJv",
     "timestamp": 1574530266842
    }
   ]
  },
  "kernelspec": {
   "display_name": "Python 3",
   "language": "python",
   "name": "python3"
  },
  "language_info": {
   "codemirror_mode": {
    "name": "ipython",
    "version": 3
   },
   "file_extension": ".py",
   "mimetype": "text/x-python",
   "name": "python",
   "nbconvert_exporter": "python",
   "pygments_lexer": "ipython3",
   "version": "3.8.3"
  }
 },
 "nbformat": 4,
 "nbformat_minor": 1
}
