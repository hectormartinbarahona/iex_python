{
 "cells": [
  {
   "cell_type": "markdown",
   "metadata": {},
   "source": [
    "### Exercise 1. Using the following list, clean all the elements, the sould be in lowercase and without spaces\n"
   ]
  },
  {
   "cell_type": "code",
   "execution_count": 1,
   "metadata": {},
   "outputs": [],
   "source": [
    "zoo  = ['bEAr ', ' liOn', 'panda', ' zebra', 'chiMpanzee ', \n",
    "        'goRIlla', 'ORangUtan ', 'gIbbon', 'giBBon ', 'beAr', 'lIon ', 'paNda ' ]"
   ]
  },
  {
   "cell_type": "code",
   "execution_count": 2,
   "metadata": {},
   "outputs": [],
   "source": [
    "zoo = [animal.strip().lower() for animal in zoo]"
   ]
  },
  {
   "cell_type": "markdown",
   "metadata": {},
   "source": [
    "### Exercise 2. Using the following list, create a list containing the unique values, i.e. no duplicates, name it `zoo_unique`\n",
    "\n",
    "Hint\n",
    "```python\n",
    "\"bear\" in [\"bear\", \"lion\"]\n",
    "```\n"
   ]
  },
  {
   "cell_type": "code",
   "execution_count": 3,
   "metadata": {},
   "outputs": [
    {
     "data": {
      "text/plain": [
       "['bear',\n",
       " 'lion',\n",
       " 'panda',\n",
       " 'zebra',\n",
       " 'chimpanzee',\n",
       " 'gorilla',\n",
       " 'orangutan',\n",
       " 'gibbon']"
      ]
     },
     "execution_count": 3,
     "metadata": {},
     "output_type": "execute_result"
    }
   ],
   "source": [
    "# manuel solution\n",
    "zoo_unique = []\n",
    "for i in zoo:\n",
    "    while zoo_unique.count(i) == 0:\n",
    "        zoo_unique.append(i)\n",
    "zoo_unique"
   ]
  },
  {
   "cell_type": "code",
   "execution_count": 4,
   "metadata": {},
   "outputs": [
    {
     "data": {
      "text/plain": [
       "['bear',\n",
       " 'lion',\n",
       " 'panda',\n",
       " 'zebra',\n",
       " 'chimpanzee',\n",
       " 'gorilla',\n",
       " 'orangutan',\n",
       " 'gibbon']"
      ]
     },
     "execution_count": 4,
     "metadata": {},
     "output_type": "execute_result"
    }
   ],
   "source": [
    "# jaume solution\n",
    "zoo_unique = list()\n",
    "for i in zoo:\n",
    "    if i not in zoo_unique:\n",
    "        zoo_unique.append(i)\n",
    "zoo_unique"
   ]
  },
  {
   "cell_type": "markdown",
   "metadata": {},
   "source": [
    "### Exercise 4. Apply the previous function to all the elements in `zoo_unique`"
   ]
  },
  {
   "cell_type": "code",
   "execution_count": 5,
   "metadata": {},
   "outputs": [
    {
     "data": {
      "text/plain": [
       "['Bear',\n",
       " 'Lion',\n",
       " 'Panda',\n",
       " 'Zebra',\n",
       " 'Chimpanzee',\n",
       " 'Gorilla',\n",
       " 'Orangutan',\n",
       " 'Gibbon']"
      ]
     },
     "execution_count": 5,
     "metadata": {},
     "output_type": "execute_result"
    }
   ],
   "source": [
    "[animal.capitalize() for animal in zoo_unique]"
   ]
  },
  {
   "cell_type": "code",
   "execution_count": 6,
   "metadata": {},
   "outputs": [
    {
     "data": {
      "text/plain": [
       "['Bear',\n",
       " 'Lion',\n",
       " 'Panda',\n",
       " 'Zebra',\n",
       " 'Chimpanzee',\n",
       " 'Gorilla',\n",
       " 'Orangutan',\n",
       " 'Gibbon']"
      ]
     },
     "execution_count": 6,
     "metadata": {},
     "output_type": "execute_result"
    }
   ],
   "source": [
    "list(map(lambda i:i.capitalize(),zoo_unique))"
   ]
  },
  {
   "cell_type": "markdown",
   "metadata": {},
   "source": [
    "### Exercise 5. Merge all elements in alphabetical order in the list separated by '-'\n",
    "Hint\n",
    "```python\n",
    "'-'.join\n",
    "```"
   ]
  },
  {
   "cell_type": "code",
   "execution_count": 7,
   "metadata": {},
   "outputs": [],
   "source": [
    "zoo_clean = [animal.capitalize() for animal in zoo_unique]"
   ]
  },
  {
   "cell_type": "code",
   "execution_count": 8,
   "metadata": {},
   "outputs": [
    {
     "data": {
      "text/plain": [
       "'Bear-Lion-Panda-Zebra-Chimpanzee-Gorilla-Orangutan-Gibbon'"
      ]
     },
     "execution_count": 8,
     "metadata": {},
     "output_type": "execute_result"
    }
   ],
   "source": [
    "'-'.join(zoo_clean)"
   ]
  },
  {
   "cell_type": "markdown",
   "metadata": {},
   "source": [
    "### Exercise 8. Remove blanks elements"
   ]
  },
  {
   "cell_type": "code",
   "execution_count": 9,
   "metadata": {},
   "outputs": [],
   "source": [
    "zoo = ['Bear','Lion', '', 'Panda', 'Zebra', '', 'Chimpanzee', 'Gorilla', '  ', 'Orangutan', 'Gibbon', '']"
   ]
  },
  {
   "cell_type": "code",
   "execution_count": 10,
   "metadata": {},
   "outputs": [
    {
     "data": {
      "text/plain": [
       "True"
      ]
     },
     "execution_count": 10,
     "metadata": {},
     "output_type": "execute_result"
    }
   ],
   "source": [
    "' '.strip() == ''"
   ]
  },
  {
   "cell_type": "code",
   "execution_count": 11,
   "metadata": {},
   "outputs": [],
   "source": [
    "# filtering out\n",
    "for i in zoo:\n",
    "    if i.strip() == \"\":\n",
    "        zoo.remove(i)"
   ]
  },
  {
   "cell_type": "code",
   "execution_count": 12,
   "metadata": {},
   "outputs": [
    {
     "data": {
      "text/plain": [
       "['Bear',\n",
       " 'Lion',\n",
       " 'Panda',\n",
       " 'Zebra',\n",
       " 'Chimpanzee',\n",
       " 'Gorilla',\n",
       " 'Orangutan',\n",
       " 'Gibbon']"
      ]
     },
     "execution_count": 12,
     "metadata": {},
     "output_type": "execute_result"
    }
   ],
   "source": [
    "zoo"
   ]
  },
  {
   "cell_type": "markdown",
   "metadata": {},
   "source": [
    "### Exercise 9. Filter those elements that starts in `b` or ends with  `a`"
   ]
  },
  {
   "cell_type": "code",
   "execution_count": 13,
   "metadata": {},
   "outputs": [],
   "source": [
    "zoo = ['Bear','Lion', 'Panda', 'Zebra', 'Chimpanzee', 'Gorilla', 'Orangutan', 'Gibbon']"
   ]
  },
  {
   "cell_type": "code",
   "execution_count": 22,
   "metadata": {},
   "outputs": [],
   "source": [
    "zoo_ab = list()\n",
    "for animal in zoo:\n",
    "    if animal.lower().endswith('a') or animal.lower().startswith('b'):\n",
    "        zoo_ab.append(animal)"
   ]
  },
  {
   "cell_type": "code",
   "execution_count": 23,
   "metadata": {},
   "outputs": [
    {
     "data": {
      "text/plain": [
       "['Bear', 'Panda', 'Zebra', 'Gorilla']"
      ]
     },
     "execution_count": 23,
     "metadata": {},
     "output_type": "execute_result"
    }
   ],
   "source": [
    "zoo_ab"
   ]
  },
  {
   "cell_type": "markdown",
   "metadata": {},
   "source": [
    "### Exercise 10. Filter those elements that have more than 5 letters\n",
    "```python\n",
    "['Bear','Lion', 'Panda', 'Zebra', 'Chimpanzee', 'Gorilla', 'Orangutan', 'Gibbon']\n",
    "['Chimpanzee', 'Gorilla', 'Orangutan', 'Gibbon']\n",
    "\n",
    "```\n"
   ]
  },
  {
   "cell_type": "code",
   "execution_count": 25,
   "metadata": {},
   "outputs": [],
   "source": [
    "zoo = ['Bear','Lion', 'Panda', 'Zebra', 'Chimpanzee', 'Gorilla', 'Orangutan', 'Gibbon']\n",
    "['Chimpanzee', 'Gorilla', 'Orangutan', 'Gibbon']\n",
    "list_five = list()\n",
    "for i in zoo:\n",
    "    if len(i)>5:\n",
    "        list_five.append(i)"
   ]
  },
  {
   "cell_type": "code",
   "execution_count": 26,
   "metadata": {},
   "outputs": [
    {
     "data": {
      "text/plain": [
       "['Chimpanzee', 'Gorilla', 'Orangutan', 'Gibbon']"
      ]
     },
     "execution_count": 26,
     "metadata": {},
     "output_type": "execute_result"
    }
   ],
   "source": [
    "list_five"
   ]
  },
  {
   "cell_type": "code",
   "execution_count": null,
   "metadata": {},
   "outputs": [],
   "source": []
  }
 ],
 "metadata": {
  "kernelspec": {
   "display_name": "Python 3",
   "language": "python",
   "name": "python3"
  },
  "language_info": {
   "codemirror_mode": {
    "name": "ipython",
    "version": 3
   },
   "file_extension": ".py",
   "mimetype": "text/x-python",
   "name": "python",
   "nbconvert_exporter": "python",
   "pygments_lexer": "ipython3",
   "version": "3.8.3"
  }
 },
 "nbformat": 4,
 "nbformat_minor": 4
}
