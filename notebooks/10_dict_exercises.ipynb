{
 "cells": [
  {
   "cell_type": "markdown",
   "metadata": {},
   "source": [
    "### Exercise 1. Creates a dictionary using two lists"
   ]
  },
  {
   "cell_type": "code",
   "execution_count": 1,
   "metadata": {},
   "outputs": [],
   "source": [
    "names = ['Chandler', 'Phoebe',  'Monika', 'Joey' ]\n",
    "ages = [ 25,  28, 27,  26 ]\n"
   ]
  },
  {
   "cell_type": "markdown",
   "metadata": {},
   "source": [
    "#### Expected output"
   ]
  },
  {
   "cell_type": "code",
   "execution_count": 2,
   "metadata": {},
   "outputs": [
    {
     "data": {
      "text/plain": [
       "{'Chandler': 25, 'Phoebe': 28, 'Monika': 27, 'Joey': 26}"
      ]
     },
     "execution_count": 2,
     "metadata": {},
     "output_type": "execute_result"
    }
   ],
   "source": [
    "d = dict(zip(names, ages))\n",
    "d"
   ]
  },
  {
   "cell_type": "markdown",
   "metadata": {},
   "source": [
    "### Exercise 2. Merge following two Python dictionaries into one"
   ]
  },
  {
   "cell_type": "code",
   "execution_count": 3,
   "metadata": {},
   "outputs": [],
   "source": [
    "d_new = {'Rachel': 24, 'Ross' : 27}"
   ]
  },
  {
   "cell_type": "markdown",
   "metadata": {},
   "source": [
    "#### Expected output"
   ]
  },
  {
   "cell_type": "code",
   "execution_count": 4,
   "metadata": {},
   "outputs": [
    {
     "data": {
      "text/plain": [
       "{'Chandler': 25,\n",
       " 'Phoebe': 28,\n",
       " 'Monika': 27,\n",
       " 'Joey': 26,\n",
       " 'Rachel': 24,\n",
       " 'Ross': 27}"
      ]
     },
     "execution_count": 4,
     "metadata": {},
     "output_type": "execute_result"
    }
   ],
   "source": [
    "d.update(d_new)\n",
    "d"
   ]
  },
  {
   "cell_type": "code",
   "execution_count": 5,
   "metadata": {},
   "outputs": [
    {
     "data": {
      "text/plain": [
       "{'Chandler': 25,\n",
       " 'Phoebe': 28,\n",
       " 'Monika': 27,\n",
       " 'Joey': 26,\n",
       " 'Rachel': 24,\n",
       " 'Ross': 27}"
      ]
     },
     "execution_count": 5,
     "metadata": {},
     "output_type": "execute_result"
    }
   ],
   "source": [
    "# alternative solution\n",
    "{**d, **d_new}"
   ]
  },
  {
   "cell_type": "code",
   "execution_count": 6,
   "metadata": {},
   "outputs": [],
   "source": [
    "# python 3.9\n",
    "# d | d_new"
   ]
  },
  {
   "cell_type": "markdown",
   "metadata": {},
   "source": [
    "### Exercise 3. Check keys\n",
    "#### Expected output"
   ]
  },
  {
   "cell_type": "code",
   "execution_count": 7,
   "metadata": {},
   "outputs": [
    {
     "data": {
      "text/plain": [
       "dict_keys(['Chandler', 'Phoebe', 'Monika', 'Joey', 'Rachel', 'Ross'])"
      ]
     },
     "execution_count": 7,
     "metadata": {},
     "output_type": "execute_result"
    }
   ],
   "source": [
    "d.keys()"
   ]
  },
  {
   "cell_type": "markdown",
   "metadata": {},
   "source": [
    "### Exercise 4. Check values\n",
    "#### Expected output"
   ]
  },
  {
   "cell_type": "code",
   "execution_count": 8,
   "metadata": {},
   "outputs": [
    {
     "data": {
      "text/plain": [
       "dict_values([25, 28, 27, 26, 24, 27])"
      ]
     },
     "execution_count": 8,
     "metadata": {},
     "output_type": "execute_result"
    }
   ],
   "source": [
    "d.values()"
   ]
  },
  {
   "cell_type": "markdown",
   "metadata": {},
   "source": [
    "### Exercise 5. Check items\n",
    "#### Expected output"
   ]
  },
  {
   "cell_type": "code",
   "execution_count": 13,
   "metadata": {},
   "outputs": [
    {
     "data": {
      "text/plain": [
       "dict_items([('Chandler', 27), ('Phoebe', 30), ('Monika', 29), ('Joey', 28), ('Rachel', 26), ('Ross', 29)])"
      ]
     },
     "execution_count": 13,
     "metadata": {},
     "output_type": "execute_result"
    }
   ],
   "source": [
    "d.items()"
   ]
  },
  {
   "cell_type": "markdown",
   "metadata": {},
   "source": [
    "### Exercise 6. Add one year\n",
    "#### Expected output"
   ]
  },
  {
   "cell_type": "code",
   "execution_count": 14,
   "metadata": {},
   "outputs": [
    {
     "data": {
      "text/plain": [
       "{'Chandler': 28,\n",
       " 'Phoebe': 31,\n",
       " 'Monika': 30,\n",
       " 'Joey': 29,\n",
       " 'Rachel': 27,\n",
       " 'Ross': 30}"
      ]
     },
     "execution_count": 14,
     "metadata": {},
     "output_type": "execute_result"
    }
   ],
   "source": [
    "for key in d.keys():\n",
    "    d[key] +=1\n",
    "d"
   ]
  },
  {
   "cell_type": "code",
   "execution_count": 15,
   "metadata": {},
   "outputs": [
    {
     "data": {
      "text/plain": [
       "{'Chandler': 29,\n",
       " 'Phoebe': 32,\n",
       " 'Monika': 31,\n",
       " 'Joey': 30,\n",
       " 'Rachel': 28,\n",
       " 'Ross': 31}"
      ]
     },
     "execution_count": 15,
     "metadata": {},
     "output_type": "execute_result"
    }
   ],
   "source": [
    "# alternative\n",
    "for key, value in d.items():\n",
    "    d[key] = value +1 \n",
    "d"
   ]
  },
  {
   "cell_type": "code",
   "execution_count": 16,
   "metadata": {},
   "outputs": [
    {
     "data": {
      "text/plain": [
       "{'Chandler': 30,\n",
       " 'Phoebe': 33,\n",
       " 'Monika': 32,\n",
       " 'Joey': 31,\n",
       " 'Rachel': 29,\n",
       " 'Ross': 32}"
      ]
     },
     "execution_count": 16,
     "metadata": {},
     "output_type": "execute_result"
    }
   ],
   "source": [
    "# dict comprehension if someone uses it\n",
    "{key:value + 1 for key, value in d.items()}"
   ]
  },
  {
   "cell_type": "markdown",
   "metadata": {},
   "source": [
    "### Exercise 8.  Create a dictionary with phones, called it `d_phones`\n",
    "#### Expected output"
   ]
  },
  {
   "cell_type": "code",
   "execution_count": 17,
   "metadata": {},
   "outputs": [],
   "source": [
    "phones = [\"+34-755-5664\", \"+34-755-5904\", \"+34-655-5297\", \"+34-655-5722\", \"+34-655-5722\", \"+34-635-6712\"]"
   ]
  },
  {
   "cell_type": "code",
   "execution_count": 18,
   "metadata": {},
   "outputs": [
    {
     "data": {
      "text/plain": [
       "{'Chandler': '+34-755-5664',\n",
       " 'Phoebe': '+34-755-5904',\n",
       " 'Monika': '+34-655-5297',\n",
       " 'Joey': '+34-655-5722',\n",
       " 'Rachel': '+34-655-5722',\n",
       " 'Ross': '+34-635-6712'}"
      ]
     },
     "execution_count": 18,
     "metadata": {},
     "output_type": "execute_result"
    }
   ],
   "source": [
    "d_phones = dict(zip(d.keys(), phones))\n",
    "d_phones"
   ]
  },
  {
   "cell_type": "markdown",
   "metadata": {},
   "source": [
    "### Exercise 9. Merge both using tuples"
   ]
  },
  {
   "cell_type": "code",
   "execution_count": 19,
   "metadata": {},
   "outputs": [
    {
     "data": {
      "text/plain": [
       "{'Chandler': (29, '+34-755-5664'),\n",
       " 'Phoebe': (32, '+34-755-5904'),\n",
       " 'Monika': (31, '+34-655-5297'),\n",
       " 'Joey': (30, '+34-655-5722'),\n",
       " 'Rachel': (28, '+34-655-5722'),\n",
       " 'Ross': (31, '+34-635-6712')}"
      ]
     },
     "execution_count": 19,
     "metadata": {},
     "output_type": "execute_result"
    }
   ],
   "source": [
    "d_both = dict()\n",
    "for key in d.keys():\n",
    "    d_both[key] = (d[key], d_phones[key])\n",
    "d_both"
   ]
  },
  {
   "cell_type": "markdown",
   "metadata": {},
   "source": [
    "### Exercise 10. Merge both using dictionarys"
   ]
  },
  {
   "cell_type": "code",
   "execution_count": 20,
   "metadata": {},
   "outputs": [
    {
     "data": {
      "text/plain": [
       "{'Chandler': {'age': 29, 'phone': '+34-755-5664'},\n",
       " 'Phoebe': {'age': 32, 'phone': '+34-755-5904'},\n",
       " 'Monika': {'age': 31, 'phone': '+34-655-5297'},\n",
       " 'Joey': {'age': 30, 'phone': '+34-655-5722'},\n",
       " 'Rachel': {'age': 28, 'phone': '+34-655-5722'},\n",
       " 'Ross': {'age': 31, 'phone': '+34-635-6712'}}"
      ]
     },
     "execution_count": 20,
     "metadata": {},
     "output_type": "execute_result"
    }
   ],
   "source": [
    "d_both = dict()\n",
    "for key in d.keys():\n",
    "    d_both[key] = {'age': d[key], 'phone': d_phones[key]}\n",
    "d_both"
   ]
  },
  {
   "cell_type": "markdown",
   "metadata": {},
   "source": [
    "### Exercise 11. Access the age and the phone using the name, and if the key do not exist, return None"
   ]
  },
  {
   "cell_type": "code",
   "execution_count": 21,
   "metadata": {},
   "outputs": [],
   "source": [
    "d_both.get('Gunther')\n",
    "# d_both.get('Gunther', None)"
   ]
  },
  {
   "cell_type": "code",
   "execution_count": null,
   "metadata": {},
   "outputs": [],
   "source": []
  }
 ],
 "metadata": {
  "kernelspec": {
   "display_name": "Python 3",
   "language": "python",
   "name": "python3"
  },
  "language_info": {
   "codemirror_mode": {
    "name": "ipython",
    "version": 3
   },
   "file_extension": ".py",
   "mimetype": "text/x-python",
   "name": "python",
   "nbconvert_exporter": "python",
   "pygments_lexer": "ipython3",
   "version": "3.8.3"
  }
 },
 "nbformat": 4,
 "nbformat_minor": 4
}
