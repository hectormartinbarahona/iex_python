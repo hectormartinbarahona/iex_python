{
 "cells": [
  {
   "cell_type": "markdown",
   "metadata": {},
   "source": [
    "## Exercise 1: Simple for-loop\n",
    "Square each number in `l` and store the result as a list."
   ]
  },
  {
   "cell_type": "code",
   "execution_count": 1,
   "metadata": {},
   "outputs": [],
   "source": [
    "l = [1, 2, 3, 4, 5]"
   ]
  },
  {
   "cell_type": "code",
   "execution_count": 2,
   "metadata": {},
   "outputs": [
    {
     "data": {
      "text/plain": [
       "[1, 4, 9, 16, 25]"
      ]
     },
     "execution_count": 2,
     "metadata": {},
     "output_type": "execute_result"
    }
   ],
   "source": []
  },
  {
   "cell_type": "markdown",
   "metadata": {},
   "source": [
    "## Exercise 2: for-loop with conditional filtering\n",
    "What if you have an if condition in the for loop? Say, you want to square only the even numbers:"
   ]
  },
  {
   "cell_type": "code",
   "execution_count": 3,
   "metadata": {},
   "outputs": [],
   "source": [
    "l = [1,2,3,4,5]"
   ]
  },
  {
   "cell_type": "code",
   "execution_count": 4,
   "metadata": {},
   "outputs": [
    {
     "data": {
      "text/plain": [
       "[4, 16]"
      ]
     },
     "execution_count": 4,
     "metadata": {},
     "output_type": "execute_result"
    }
   ],
   "source": []
  },
  {
   "cell_type": "markdown",
   "metadata": {},
   "source": [
    "## Exercise 3: for-loop with ‘if’ and ‘else’ condition\n",
    "Let’s see a case where you have an ‘if-else’ condition in the for-loop.\n",
    "Using the list  `l`, square the number if its even, else, cube it."
   ]
  },
  {
   "cell_type": "code",
   "execution_count": 5,
   "metadata": {},
   "outputs": [
    {
     "data": {
      "text/plain": [
       "[1, 4, 27, 16, 125]"
      ]
     },
     "execution_count": 5,
     "metadata": {},
     "output_type": "execute_result"
    }
   ],
   "source": []
  },
  {
   "cell_type": "markdown",
   "metadata": {},
   "source": [
    "## Exercise 4: Multiple for-loops\n",
    "Now let’s see a slightly complicated example that involves two For-Loops.\n",
    "\n",
    "Flatten the matrix mat (a list of lists) keeping only the even numbers."
   ]
  },
  {
   "cell_type": "code",
   "execution_count": 6,
   "metadata": {},
   "outputs": [
    {
     "data": {
      "text/plain": [
       "[[1, 2, 3, 4], [5, 6, 7, 8], [9, 10, 11, 12], [13, 14, 15, 16]]"
      ]
     },
     "execution_count": 6,
     "metadata": {},
     "output_type": "execute_result"
    }
   ],
   "source": [
    "mat = [[1,2,3,4], [5,6,7,8], [9,10,11,12], [13,14,15,16]]\n",
    "mat"
   ]
  },
  {
   "cell_type": "code",
   "execution_count": 7,
   "metadata": {},
   "outputs": [
    {
     "data": {
      "text/plain": [
       "[2, 4, 6, 8, 10, 12, 14, 16]"
      ]
     },
     "execution_count": 7,
     "metadata": {},
     "output_type": "execute_result"
    }
   ],
   "source": []
  },
  {
   "cell_type": "markdown",
   "metadata": {},
   "source": [
    "## Exercise 5: Tokenization\n",
    "Tokenize a sentenze means to transforme a sentence in a list of words. \n",
    "In this exercise you should tokenize a list of sentences"
   ]
  },
  {
   "cell_type": "code",
   "execution_count": 8,
   "metadata": {},
   "outputs": [],
   "source": [
    "sentences = [\"Hello, darkness, my old friend\",\n",
    "             \"I've come to talk with you again\",\n",
    "             \"Because a vision softly creeping\",\n",
    "             \"Left its seeds while I was sleeping\",\n",
    "             \"And the vision that was planted in my brain\",\n",
    "             \"Still remains\",\n",
    "             \"Within the sound of silence\"]"
   ]
  },
  {
   "cell_type": "code",
   "execution_count": 9,
   "metadata": {},
   "outputs": [
    {
     "data": {
      "text/plain": [
       "[['Hello,', 'darkness,', 'my', 'old', 'friend'],\n",
       " [\"I've\", 'come', 'to', 'talk', 'with', 'you', 'again'],\n",
       " ['Because', 'a', 'vision', 'softly', 'creeping'],\n",
       " ['Left', 'its', 'seeds', 'while', 'I', 'was', 'sleeping'],\n",
       " ['And', 'the', 'vision', 'that', 'was', 'planted', 'in', 'my', 'brain'],\n",
       " ['Still', 'remains'],\n",
       " ['Within', 'the', 'sound', 'of', 'silence']]"
      ]
     },
     "execution_count": 9,
     "metadata": {},
     "output_type": "execute_result"
    }
   ],
   "source": []
  },
  {
   "cell_type": "markdown",
   "metadata": {},
   "source": [
    "## Exercise 6: Remove StopWords\n",
    "Write a function with two arguments `sentence` and `stopwords` and returns a list of words in sentence but not in stopwords. Name it `token_and_clean`"
   ]
  },
  {
   "cell_type": "code",
   "execution_count": 10,
   "metadata": {},
   "outputs": [],
   "source": [
    "sentence = \"a new world record was set\"\n",
    "stopwords = ['for', 'a', 'of', 'the', 'and', 'to', 'in', 'on', 'with', 'my', 'you', 'I', 'its', 'was']"
   ]
  },
  {
   "cell_type": "code",
   "execution_count": 11,
   "metadata": {},
   "outputs": [],
   "source": []
  },
  {
   "cell_type": "markdown",
   "metadata": {},
   "source": [
    "## Exercise 7: Tokenize and Clean a Document\n",
    "Using the document (list of sentences) named `sentences` apply the previous function "
   ]
  },
  {
   "cell_type": "code",
   "execution_count": 12,
   "metadata": {},
   "outputs": [
    {
     "data": {
      "text/plain": [
       "[['Hello,', 'darkness,', 'old', 'friend'],\n",
       " [\"I've\", 'come', 'talk', 'again'],\n",
       " ['Because', 'vision', 'softly', 'creeping'],\n",
       " ['Left', 'seeds', 'while', 'sleeping'],\n",
       " ['And', 'vision', 'that', 'planted', 'brain'],\n",
       " ['Still', 'remains'],\n",
       " ['Within', 'sound', 'silence']]"
      ]
     },
     "execution_count": 12,
     "metadata": {},
     "output_type": "execute_result"
    }
   ],
   "source": []
  },
  {
   "cell_type": "markdown",
   "metadata": {},
   "source": [
    "## Exercise 8. Better cleaning\n",
    "Improve the function `token_and_clean` adding a new argument called `min_letters` and remove those words that has less then tree letters"
   ]
  },
  {
   "cell_type": "code",
   "execution_count": 13,
   "metadata": {},
   "outputs": [],
   "source": [
    "def token_and_clean(sentence, stopwords, min_letters=3):\n",
    "    tokens =  [i for i in sentence.split() if i not in stopwords]\n",
    "    return [i for i in tokens if len(i)> min_letters]"
   ]
  },
  {
   "cell_type": "code",
   "execution_count": 14,
   "metadata": {},
   "outputs": [
    {
     "data": {
      "text/plain": [
       "[['Hello,', 'darkness,', 'friend'],\n",
       " [\"I've\", 'come', 'talk', 'again'],\n",
       " ['Because', 'vision', 'softly', 'creeping'],\n",
       " ['Left', 'seeds', 'while', 'sleeping'],\n",
       " ['vision', 'that', 'planted', 'brain'],\n",
       " ['Still', 'remains'],\n",
       " ['Within', 'sound', 'silence']]"
      ]
     },
     "execution_count": 14,
     "metadata": {},
     "output_type": "execute_result"
    }
   ],
   "source": []
  },
  {
   "cell_type": "markdown",
   "metadata": {},
   "source": [
    "## Exercise 9. Flat the previous matrix  (list of list)"
   ]
  },
  {
   "cell_type": "code",
   "execution_count": 15,
   "metadata": {},
   "outputs": [
    {
     "data": {
      "text/plain": [
       "['Hello,',\n",
       " 'darkness,',\n",
       " 'friend',\n",
       " \"I've\",\n",
       " 'come',\n",
       " 'talk',\n",
       " 'again',\n",
       " 'Because',\n",
       " 'vision',\n",
       " 'softly',\n",
       " 'creeping',\n",
       " 'Left',\n",
       " 'seeds',\n",
       " 'while',\n",
       " 'sleeping',\n",
       " 'vision',\n",
       " 'that',\n",
       " 'planted',\n",
       " 'brain',\n",
       " 'Still',\n",
       " 'remains',\n",
       " 'Within',\n",
       " 'sound',\n",
       " 'silence']"
      ]
     },
     "execution_count": 15,
     "metadata": {},
     "output_type": "execute_result"
    }
   ],
   "source": []
  },
  {
   "cell_type": "markdown",
   "metadata": {},
   "source": [
    "## Exercise 10. Lower and unique. \n",
    "We want the previous list but everyword in lowercase and no duplication"
   ]
  },
  {
   "cell_type": "code",
   "execution_count": 17,
   "metadata": {},
   "outputs": [
    {
     "data": {
      "text/plain": [
       "['that',\n",
       " 'softly',\n",
       " 'still',\n",
       " 'sleeping',\n",
       " 'brain',\n",
       " \"i've\",\n",
       " 'vision',\n",
       " 'silence',\n",
       " 'hello,',\n",
       " 'seeds',\n",
       " 'while',\n",
       " 'friend',\n",
       " 'planted',\n",
       " 'left',\n",
       " 'because',\n",
       " 'creeping',\n",
       " 'sound',\n",
       " 'come',\n",
       " 'within',\n",
       " 'again',\n",
       " 'darkness,',\n",
       " 'remains',\n",
       " 'talk']"
      ]
     },
     "execution_count": 17,
     "metadata": {},
     "output_type": "execute_result"
    }
   ],
   "source": []
  },
  {
   "cell_type": "code",
   "execution_count": null,
   "metadata": {},
   "outputs": [],
   "source": []
  }
 ],
 "metadata": {
  "kernelspec": {
   "display_name": "Python 3",
   "language": "python",
   "name": "python3"
  },
  "language_info": {
   "codemirror_mode": {
    "name": "ipython",
    "version": 3
   },
   "file_extension": ".py",
   "mimetype": "text/x-python",
   "name": "python",
   "nbconvert_exporter": "python",
   "pygments_lexer": "ipython3",
   "version": "3.8.3"
  }
 },
 "nbformat": 4,
 "nbformat_minor": 4
}
