{
 "cells": [
  {
   "cell_type": "markdown",
   "metadata": {},
   "source": [
    "### Exercise 1. Creates a list similar to the following one in which all the elements are integers"
   ]
  },
  {
   "cell_type": "code",
   "execution_count": 1,
   "metadata": {
    "scrolled": true
   },
   "outputs": [],
   "source": [
    "l = [1, 2.0, '3', 4.0, 5, '6', 7.0, 8, '9', '10']"
   ]
  },
  {
   "cell_type": "markdown",
   "metadata": {},
   "source": [
    "### Exercise 2. Creates a list for the names `name` and another for the age `age`"
   ]
  },
  {
   "cell_type": "code",
   "execution_count": 2,
   "metadata": {},
   "outputs": [],
   "source": [
    "l = ['Chandler', 25, 'Phoebe', 28,  'Monika', 27, 'Joey', 26 ]"
   ]
  },
  {
   "cell_type": "markdown",
   "metadata": {},
   "source": [
    "### Exercise 3. Separate the list in three `name`, `age` and `phone`"
   ]
  },
  {
   "cell_type": "code",
   "execution_count": 4,
   "metadata": {},
   "outputs": [],
   "source": [
    "l = ['Chandler', 25, 755.5664,  'Phoebe', 28, 755.5904,  'Monika', 27, 655.5297, 'Joey', 26, 655.5722]"
   ]
  },
  {
   "cell_type": "markdown",
   "metadata": {},
   "source": [
    "### Exercise 4. Same than in ex.3, be sure that the number is a float"
   ]
  },
  {
   "cell_type": "code",
   "execution_count": 6,
   "metadata": {},
   "outputs": [],
   "source": [
    "l = ['Chandler', 25, \"755.5664\",  'Phoebe', 28, \"755.5904\",  \n",
    "     'Monika', 27, \"655.5297\", 'Joey', 26,\"655.5722\"]"
   ]
  },
  {
   "cell_type": "markdown",
   "metadata": {},
   "source": [
    "### Exercise 5. Same than in ex.3 and 4, but parsing the phone number"
   ]
  },
  {
   "cell_type": "code",
   "execution_count": 8,
   "metadata": {},
   "outputs": [],
   "source": [
    "l = ['Chandler', 25, \"+34-755-5664\",  'Phoebe', 28, \"+34-755-5904\",  \n",
    "     'Monika', 27, \"+34-655-5297\", 'Joey', 26,\"+34-655-5722\"]"
   ]
  },
  {
   "cell_type": "markdown",
   "metadata": {},
   "source": [
    "### Exercise 6. It has been a year since they started recording the TV show so add 1 year to the age of each"
   ]
  },
  {
   "cell_type": "code",
   "execution_count": 10,
   "metadata": {},
   "outputs": [],
   "source": [
    "l = ['Chandler', 25, 'Phoebe', 28,  'Monika', 27, 'Joey', 26]"
   ]
  },
  {
   "cell_type": "markdown",
   "metadata": {},
   "source": [
    "### Exercise 7. Create a list for `name` and a list for `age`. Sort both lists according to age (ascending)"
   ]
  },
  {
   "cell_type": "code",
   "execution_count": 12,
   "metadata": {},
   "outputs": [],
   "source": [
    "s_age = sorted(age)"
   ]
  },
  {
   "cell_type": "markdown",
   "metadata": {},
   "source": [
    "### Exercise 8. Create a function to order one list using other list. "
   ]
  },
  {
   "cell_type": "markdown",
   "metadata": {},
   "source": [
    "### Exercise 9. Separate `age_new` and `name_new` and sort names in age order using previous function"
   ]
  },
  {
   "cell_type": "code",
   "execution_count": 15,
   "metadata": {},
   "outputs": [],
   "source": [
    "l_new = ['Rachel', 24, 'Ross', 27, 'Monika', 25]"
   ]
  },
  {
   "cell_type": "markdown",
   "metadata": {},
   "source": [
    "### Exercise 10. Join `l` with `l_new`, separate `age` and `name` sort them and remove those with age higher than 26"
   ]
  },
  {
   "cell_type": "code",
   "execution_count": 21,
   "metadata": {},
   "outputs": [],
   "source": [
    "l = ['Chandler', 25, 'Phoebe', 28,  'Monika', 27, 'Joey', 26]\n",
    "l_new = ['Rachel', 24, 'Ross', 27]"
   ]
  }
 ],
 "metadata": {
  "kernelspec": {
   "display_name": "Python 3",
   "language": "python",
   "name": "python3"
  },
  "language_info": {
   "codemirror_mode": {
    "name": "ipython",
    "version": 3
   },
   "file_extension": ".py",
   "mimetype": "text/x-python",
   "name": "python",
   "nbconvert_exporter": "python",
   "pygments_lexer": "ipython3",
   "version": "3.8.5"
  }
 },
 "nbformat": 4,
 "nbformat_minor": 4
}
