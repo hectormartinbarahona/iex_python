{
 "cells": [
  {
   "cell_type": "markdown",
   "metadata": {},
   "source": [
    "## Dict comprehension"
   ]
  },
  {
   "cell_type": "code",
   "execution_count": 2,
   "metadata": {},
   "outputs": [],
   "source": [
    "d = {'Chandler': 25, 'Phoebe': 28, 'Monika': 27, 'Joey': 26}"
   ]
  },
  {
   "cell_type": "markdown",
   "metadata": {},
   "source": [
    "### let's add a year to each character"
   ]
  },
  {
   "cell_type": "code",
   "execution_count": 3,
   "metadata": {},
   "outputs": [
    {
     "data": {
      "text/plain": [
       "{'Chandler': 26, 'Phoebe': 29, 'Monika': 28, 'Joey': 27}"
      ]
     },
     "execution_count": 3,
     "metadata": {},
     "output_type": "execute_result"
    }
   ],
   "source": [
    "{key:value+1 for key, value in d.items()}"
   ]
  },
  {
   "cell_type": "markdown",
   "metadata": {},
   "source": [
    "### Exercise 1. Create a dictionary like the one above in which values are the keys and vice versa\n",
    "#### expected output \n",
    "````\n",
    "{25: 'Chandler', 28: 'Phoebe', 27: 'Monika', 26: 'Joey'}\n",
    "````\n"
   ]
  },
  {
   "cell_type": "markdown",
   "metadata": {},
   "source": [
    "### Exercise 2. Create a dictionary with the word frequency word:frequency of the next corpus\n",
    "#### expected output \n",
    "````\n",
    "{'the': 2,\n",
    " 'to': 1,\n",
    " 'its': 1,\n",
    " 'frequency': 1,\n",
    " 'all': 1,\n",
    " 'potential.': 1,\n",
    " 'and': 1,\n",
    " 'dictionary': 2,\n",
    " 'you': 1,\n",
    " 'create': 1,\n",
    " 'using': 1,\n",
    " 'python': 1,\n",
    " 'would': 1,\n",
    " 'learn': 2,\n",
    " 'word': 1,\n",
    " 'about': 1,\n",
    " 'also': 1}\n",
    "````\n"
   ]
  },
  {
   "cell_type": "code",
   "execution_count": 4,
   "metadata": {},
   "outputs": [],
   "source": [
    "corpus = \"\"\"\n",
    "learn all about the python dictionary and its potential.\n",
    "you would also learn to create word frequency using the dictionary\n",
    "\"\"\""
   ]
  },
  {
   "cell_type": "markdown",
   "metadata": {},
   "source": [
    "## Counter\n",
    "A Counter is a container that keeps track of how many times equivalent values are added. It can be used to implement the same algorithms for which bag or multiset data structures are commonly used in other languages.\n",
    "\n"
   ]
  },
  {
   "cell_type": "code",
   "execution_count": 4,
   "metadata": {},
   "outputs": [
    {
     "data": {
      "text/plain": [
       "Counter({1: 2, 2: 1, 3: 2, 4: 1, 5: 1, 6: 1, 7: 2, 9: 2, 10: 1})"
      ]
     },
     "execution_count": 4,
     "metadata": {},
     "output_type": "execute_result"
    }
   ],
   "source": [
    "from collections import Counter\n",
    "Counter([1,1,2,3,4,5,6,7,9,10,7,9,3])"
   ]
  },
  {
   "cell_type": "markdown",
   "metadata": {},
   "source": [
    "### Exercise 3. Use counter to compute the word frequency in corpus\n",
    "#### expected output \n",
    "````\n",
    "Counter({'learn': 2,\n",
    "         'all': 1,\n",
    "         'about': 1,\n",
    "         'the': 2,\n",
    "         'python': 1,\n",
    "         'dictionary': 2,\n",
    "         'and': 1,\n",
    "         'its': 1,\n",
    "         'potential.': 1,\n",
    "         'you': 1,\n",
    "         'would': 1,\n",
    "         'also': 1,\n",
    "         'to': 1,\n",
    "         'create': 1,\n",
    "         'word': 1,\n",
    "         'frequency': 1,\n",
    "         'using': 1})\n",
    "````\n"
   ]
  },
  {
   "cell_type": "markdown",
   "metadata": {},
   "source": [
    "## Ennumerate\n",
    "A lot of times when dealing with iterators, we also get a need to keep a count of iterations. Python eases the programmers’ task by providing a built-in function enumerate() for this task.\n",
    "Enumerate() method adds a counter to an iterable and returns it in a form of enumerate object. This enumerate object can then be used directly in for loops or be converted into a list of tuples using list() method."
   ]
  },
  {
   "cell_type": "code",
   "execution_count": 8,
   "metadata": {},
   "outputs": [],
   "source": [
    "l = ['Chandler', 'Phoebe', 'Monika', 'Joey', 'Rachel', 'Ross', 'Chandler', 'Phoebe']"
   ]
  },
  {
   "cell_type": "code",
   "execution_count": 9,
   "metadata": {},
   "outputs": [
    {
     "data": {
      "text/plain": [
       "<enumerate at 0x7ff930a09680>"
      ]
     },
     "execution_count": 9,
     "metadata": {},
     "output_type": "execute_result"
    }
   ],
   "source": [
    "enumerate(l)"
   ]
  },
  {
   "cell_type": "code",
   "execution_count": 10,
   "metadata": {},
   "outputs": [
    {
     "data": {
      "text/plain": [
       "{0: 'Chandler',\n",
       " 1: 'Phoebe',\n",
       " 2: 'Monika',\n",
       " 3: 'Joey',\n",
       " 4: 'Rachel',\n",
       " 5: 'Ross',\n",
       " 6: 'Chandler',\n",
       " 7: 'Phoebe'}"
      ]
     },
     "execution_count": 10,
     "metadata": {},
     "output_type": "execute_result"
    }
   ],
   "source": [
    "dict(enumerate(l))"
   ]
  },
  {
   "cell_type": "markdown",
   "metadata": {},
   "source": [
    "Enummerate create a generator that can be opened with a function like dict, add an index per element and do not remove duplicates"
   ]
  },
  {
   "cell_type": "markdown",
   "metadata": {},
   "source": [
    "### Exercise 4. Create a list of tuples istead of a dict using enumerate\n",
    "#### expected output \n",
    "````\n",
    "here\n",
    "````\n"
   ]
  },
  {
   "cell_type": "code",
   "execution_count": 11,
   "metadata": {},
   "outputs": [
    {
     "data": {
      "text/plain": [
       "[(0, 'Chandler'),\n",
       " (1, 'Phoebe'),\n",
       " (2, 'Monika'),\n",
       " (3, 'Joey'),\n",
       " (4, 'Rachel'),\n",
       " (5, 'Ross'),\n",
       " (6, 'Chandler'),\n",
       " (7, 'Phoebe')]"
      ]
     },
     "execution_count": 11,
     "metadata": {},
     "output_type": "execute_result"
    }
   ],
   "source": []
  },
  {
   "cell_type": "markdown",
   "metadata": {},
   "source": [
    "### Exercise 5. Do the same thing but starting with 1 not with 0\n",
    "#### expected output \n",
    "````\n",
    "[(1, 'Chandler'),\n",
    " (2, 'Phoebe'),\n",
    " (3, 'Monika'),\n",
    " (4, 'Joey'),\n",
    " (5, 'Rachel'),\n",
    " (6, 'Ross'),\n",
    " (7, 'Chandler'),\n",
    " (8, 'Phoebe')]\n",
    "````\n"
   ]
  },
  {
   "cell_type": "markdown",
   "metadata": {},
   "source": [
    "## Nested Dictionary\n",
    "Using the following dictionary answer the following questions:\n",
    "1. What's her name?\n",
    "2. Which tool does she use for machine learning?\n",
    "3. Where is she living?\n",
    "4. How old is she?"
   ]
  },
  {
   "cell_type": "code",
   "execution_count": 5,
   "metadata": {},
   "outputs": [],
   "source": [
    "profile= {\"name\" : \"Lucia\", \n",
    "          \"skills\":{\"Deep Learning\": \"Tensorflow\", \"Machine Learning\": \"Sklearn\"},\n",
    "          \"job\":{'current': \"Data Scientist\", 'past': \"Data Analyst\"},\n",
    "          \"city\":{\"live\": \"Barcelona\",  'from': 'Malaga'}, \n",
    "          \"age\" : 34}"
   ]
  },
  {
   "cell_type": "code",
   "execution_count": null,
   "metadata": {},
   "outputs": [],
   "source": []
  }
 ],
 "metadata": {
  "kernelspec": {
   "display_name": "Python 3",
   "language": "python",
   "name": "python3"
  },
  "language_info": {
   "codemirror_mode": {
    "name": "ipython",
    "version": 3
   },
   "file_extension": ".py",
   "mimetype": "text/x-python",
   "name": "python",
   "nbconvert_exporter": "python",
   "pygments_lexer": "ipython3",
   "version": "3.8.3"
  }
 },
 "nbformat": 4,
 "nbformat_minor": 4
}
