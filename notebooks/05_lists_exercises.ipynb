{
 "cells": [
  {
   "cell_type": "markdown",
   "metadata": {},
   "source": [
    "### Exercise 1. Creates a list similar to the following one in which all the elements are integers"
   ]
  },
  {
   "cell_type": "code",
   "execution_count": 66,
   "metadata": {
    "scrolled": true
   },
   "outputs": [
    {
     "data": {
      "text/plain": [
       "[1, 2, 3, 4, 5, 6, 7, 8, 9, 10]"
      ]
     },
     "execution_count": 66,
     "metadata": {},
     "output_type": "execute_result"
    }
   ],
   "source": [
    "l = [1, 2.0, '3', 4.0, 5, '6', 7.0, 8, '9', '10']\n",
    "\n",
    "# using the list l\n",
    "l_integers = list()\n",
    "for i in l:\n",
    "    l_integers.append(int(i))\n",
    "l_integers"
   ]
  },
  {
   "cell_type": "markdown",
   "metadata": {},
   "source": [
    "### Exercise 2. Creates a list for the names `name` and another for the age `age`"
   ]
  },
  {
   "cell_type": "code",
   "execution_count": 67,
   "metadata": {},
   "outputs": [
    {
     "data": {
      "text/plain": [
       "['Chandler', 'Phoebe', 'Monika', 'Joey']"
      ]
     },
     "execution_count": 67,
     "metadata": {},
     "output_type": "execute_result"
    }
   ],
   "source": [
    "l = ['Chandler', 25, 'Phoebe', 28,  'Monika', 27, 'Joey', 26 ]\n",
    "# is the position odd or even?\n",
    "# is integer of string?\n",
    "l[::2]"
   ]
  },
  {
   "cell_type": "code",
   "execution_count": 68,
   "metadata": {},
   "outputs": [
    {
     "data": {
      "text/plain": [
       "[25, 28, 27, 26]"
      ]
     },
     "execution_count": 68,
     "metadata": {},
     "output_type": "execute_result"
    }
   ],
   "source": [
    "l[1::2]"
   ]
  },
  {
   "cell_type": "code",
   "execution_count": 69,
   "metadata": {},
   "outputs": [],
   "source": [
    "name = list()\n",
    "age = list()\n",
    "for i in l:\n",
    "    if isinstance(i, str):\n",
    "        name.append(i)\n",
    "    else:\n",
    "        age.append(i)"
   ]
  },
  {
   "cell_type": "markdown",
   "metadata": {},
   "source": [
    "### Exercise 3. Separate the list in three `name`, `age` and `phone`"
   ]
  },
  {
   "cell_type": "code",
   "execution_count": 70,
   "metadata": {},
   "outputs": [],
   "source": [
    "l = ['Chandler', 25, 755.5664,  'Phoebe', 28, 755.5904,  \n",
    "     'Monika', 27, 655.5297, 'Joey', 26, 655.5722]"
   ]
  },
  {
   "cell_type": "code",
   "execution_count": 71,
   "metadata": {},
   "outputs": [
    {
     "data": {
      "text/plain": [
       "['Chandler', 'Phoebe', 'Monika', 'Joey']"
      ]
     },
     "execution_count": 71,
     "metadata": {},
     "output_type": "execute_result"
    }
   ],
   "source": [
    "l[0::3]"
   ]
  },
  {
   "cell_type": "code",
   "execution_count": 72,
   "metadata": {},
   "outputs": [
    {
     "data": {
      "text/plain": [
       "[25, 28, 27, 26]"
      ]
     },
     "execution_count": 72,
     "metadata": {},
     "output_type": "execute_result"
    }
   ],
   "source": [
    "l[1::3]"
   ]
  },
  {
   "cell_type": "code",
   "execution_count": 73,
   "metadata": {},
   "outputs": [
    {
     "data": {
      "text/plain": [
       "[755.5664, 755.5904, 655.5297, 655.5722]"
      ]
     },
     "execution_count": 73,
     "metadata": {},
     "output_type": "execute_result"
    }
   ],
   "source": [
    "l[2::3]"
   ]
  },
  {
   "cell_type": "markdown",
   "metadata": {},
   "source": [
    "### Exercise 4. Same than in ex.3, be sure that the number is a float"
   ]
  },
  {
   "cell_type": "code",
   "execution_count": 74,
   "metadata": {},
   "outputs": [],
   "source": [
    "l = ['Chandler', 25, \"755.5664\",  'Phoebe', 28, \"755.5904\",  \n",
    "     'Monika', 27, \"655.5297\", 'Joey', 26, \"655.5722\"]"
   ]
  },
  {
   "cell_type": "code",
   "execution_count": 75,
   "metadata": {},
   "outputs": [],
   "source": [
    "phone = list()\n",
    "for i in l[2::3]:\n",
    "    phone.append(float(i))"
   ]
  },
  {
   "cell_type": "code",
   "execution_count": 76,
   "metadata": {},
   "outputs": [
    {
     "data": {
      "text/plain": [
       "[755.5664, 755.5904, 655.5297, 655.5722]"
      ]
     },
     "execution_count": 76,
     "metadata": {},
     "output_type": "execute_result"
    }
   ],
   "source": [
    "[float(i) for i in l[2::3]]"
   ]
  },
  {
   "cell_type": "markdown",
   "metadata": {},
   "source": [
    "### Exercise 5. Same than in ex.3 and 4, but parsing the phone number"
   ]
  },
  {
   "cell_type": "code",
   "execution_count": 77,
   "metadata": {},
   "outputs": [],
   "source": [
    "l = ['Chandler', 25, \"+34-755-5664\",  'Phoebe', 28, \"+34-755-5904\",  \n",
    "     'Monika', 27, \"+34-655-5297\", 'Joey', 26, \"+34-655-5722\"]"
   ]
  },
  {
   "cell_type": "code",
   "execution_count": 78,
   "metadata": {},
   "outputs": [
    {
     "data": {
      "text/plain": [
       "'655-5297'"
      ]
     },
     "execution_count": 78,
     "metadata": {},
     "output_type": "execute_result"
    }
   ],
   "source": [
    "\"+34-655-5297\".strip('+34-')"
   ]
  },
  {
   "cell_type": "code",
   "execution_count": 79,
   "metadata": {},
   "outputs": [
    {
     "data": {
      "text/plain": [
       "655.5297"
      ]
     },
     "execution_count": 79,
     "metadata": {},
     "output_type": "execute_result"
    }
   ],
   "source": [
    "float(\"+34-655-5297\".replace('+34-','').replace('-','.'))"
   ]
  },
  {
   "cell_type": "markdown",
   "metadata": {},
   "source": [
    "### Exercise 6. It has been a year since they started recording the TV show so add 1 year to the age of each"
   ]
  },
  {
   "cell_type": "code",
   "execution_count": 80,
   "metadata": {},
   "outputs": [],
   "source": [
    "l = ['Chandler', 25, 'Phoebe', 28,  'Monika', 27, 'Joey', 26]"
   ]
  },
  {
   "cell_type": "code",
   "execution_count": 81,
   "metadata": {},
   "outputs": [],
   "source": [
    "for i in range(0,len(l)):\n",
    "    if isinstance(l[i], int):\n",
    "        l[i] += 1"
   ]
  },
  {
   "cell_type": "code",
   "execution_count": 82,
   "metadata": {},
   "outputs": [
    {
     "data": {
      "text/plain": [
       "['Chandler',\n",
       " 25,\n",
       " 'Phoebe',\n",
       " 28,\n",
       " 'Monika',\n",
       " 27,\n",
       " 'Joey',\n",
       " 26,\n",
       " 'Rachel',\n",
       " 24,\n",
       " 'Ross',\n",
       " 27]"
      ]
     },
     "execution_count": 82,
     "metadata": {},
     "output_type": "execute_result"
    }
   ],
   "source": [
    "l = ['Chandler', 25, 'Phoebe', 28,  'Monika', 27, 'Joey', 26]\n",
    "l_new = ['Rachel', 24, 'Ross', 27]\n",
    "l.extend(l_new)\n",
    "l"
   ]
  },
  {
   "cell_type": "markdown",
   "metadata": {},
   "source": [
    "### Exercise 7. Create a list for `name` and a list for `age`. Sort both lists according to age (ascending)"
   ]
  },
  {
   "cell_type": "code",
   "execution_count": 83,
   "metadata": {},
   "outputs": [
    {
     "data": {
      "text/plain": [
       "['Chandler', 'Joey', 'Monika', 'Phoebe']"
      ]
     },
     "execution_count": 83,
     "metadata": {},
     "output_type": "execute_result"
    }
   ],
   "source": [
    "s_age = sorted(age)\n",
    "\n",
    "s_name = list()\n",
    "for a in age:\n",
    "    for i in range(0,len(s_age)):\n",
    "        if s_age[i] == a:\n",
    "            s_name.append(name[i])\n",
    "s_name"
   ]
  },
  {
   "cell_type": "code",
   "execution_count": 96,
   "metadata": {},
   "outputs": [
    {
     "data": {
      "text/plain": [
       "[(24, 'Rachel'),\n",
       " (25, 'Chandler'),\n",
       " (26, 'Joey'),\n",
       " (27, 'Monika'),\n",
       " (27, 'Ross'),\n",
       " (28, 'Phoebe')]"
      ]
     },
     "execution_count": 96,
     "metadata": {},
     "output_type": "execute_result"
    }
   ],
   "source": [
    "sorted(zip(age, name))"
   ]
  },
  {
   "cell_type": "markdown",
   "metadata": {},
   "source": [
    "### Exercise 8. Create a function to order one list using other list. "
   ]
  },
  {
   "cell_type": "code",
   "execution_count": 84,
   "metadata": {},
   "outputs": [],
   "source": [
    "def sort_one_list_by_other(l, by):\n",
    "    by_sorted = sorted(by)\n",
    "    l_sorted = list()\n",
    "    positions = range(0, len(by))\n",
    "    for b in by:\n",
    "        for i in positions:\n",
    "            if by_sorted[i] == b:\n",
    "                l_sorted.append(l[i])\n",
    "    return l_sorted"
   ]
  },
  {
   "cell_type": "markdown",
   "metadata": {},
   "source": [
    "### Exercise 9. Separate `age_new` and `name_new` and sort names in age order using previous function"
   ]
  },
  {
   "cell_type": "code",
   "execution_count": 85,
   "metadata": {},
   "outputs": [],
   "source": [
    "l_new = ['Rachel', 24, 'Ross', 27, 'Monika', 25]"
   ]
  },
  {
   "cell_type": "code",
   "execution_count": 86,
   "metadata": {},
   "outputs": [],
   "source": [
    "age_new  = list()\n",
    "name_new = list()\n",
    "for i in l:\n",
    "    if isinstance(i, str):\n",
    "        name_new.append(i)\n",
    "    else:\n",
    "        age_new.append(i)"
   ]
  },
  {
   "cell_type": "code",
   "execution_count": 87,
   "metadata": {},
   "outputs": [
    {
     "name": "stdout",
     "output_type": "stream",
     "text": [
      "[24, 25, 26, 27, 27, 28]\n",
      "['Phoebe', 'Ross', 'Joey', 'Rachel', 'Monika', 'Chandler', 'Joey', 'Rachel']\n"
     ]
    }
   ],
   "source": [
    "s_age_new = sorted(age_new)\n",
    "s_nme_new = sort_one_list_by_other(name_new, age_new)\n",
    "print(s_age_new)\n",
    "print(s_nme_new)"
   ]
  },
  {
   "cell_type": "markdown",
   "metadata": {},
   "source": [
    "### Exercise 10. Join `l` with `l_new`, separate `age` and `name` sort them and remove those with age higher than 26"
   ]
  },
  {
   "cell_type": "code",
   "execution_count": 88,
   "metadata": {},
   "outputs": [],
   "source": [
    "l = ['Chandler', 25, 'Phoebe', 28,  'Monika', 27, 'Joey', 26]\n",
    "l_new = ['Rachel', 24, 'Ross', 27]"
   ]
  },
  {
   "cell_type": "code",
   "execution_count": 89,
   "metadata": {},
   "outputs": [],
   "source": [
    "l.extend(l_new)"
   ]
  },
  {
   "cell_type": "code",
   "execution_count": 90,
   "metadata": {},
   "outputs": [],
   "source": [
    "name=l[::2]"
   ]
  },
  {
   "cell_type": "code",
   "execution_count": 91,
   "metadata": {},
   "outputs": [],
   "source": [
    "age=l[1::2]"
   ]
  },
  {
   "cell_type": "code",
   "execution_count": 92,
   "metadata": {},
   "outputs": [],
   "source": [
    "name_sorted = sort_one_list_by_other(name,age)\n",
    "age_sorted = sorted(age)"
   ]
  },
  {
   "cell_type": "code",
   "execution_count": 93,
   "metadata": {},
   "outputs": [
    {
     "name": "stdout",
     "output_type": "stream",
     "text": [
      "['Phoebe', 'Ross', 'Joey', 'Rachel', 'Monika', 'Chandler', 'Joey', 'Rachel']\n"
     ]
    }
   ],
   "source": [
    "print(name_sorted)"
   ]
  },
  {
   "cell_type": "code",
   "execution_count": 94,
   "metadata": {},
   "outputs": [
    {
     "name": "stdout",
     "output_type": "stream",
     "text": [
      "[24, 25, 26, 27, 27, 28]\n"
     ]
    }
   ],
   "source": [
    "print(age_sorted)"
   ]
  }
 ],
 "metadata": {
  "kernelspec": {
   "display_name": "Python 3",
   "language": "python",
   "name": "python3"
  },
  "language_info": {
   "codemirror_mode": {
    "name": "ipython",
    "version": 3
   },
   "file_extension": ".py",
   "mimetype": "text/x-python",
   "name": "python",
   "nbconvert_exporter": "python",
   "pygments_lexer": "ipython3",
   "version": "3.8.3"
  }
 },
 "nbformat": 4,
 "nbformat_minor": 4
}
