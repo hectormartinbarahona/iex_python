{
 "cells": [
  {
   "cell_type": "markdown",
   "metadata": {},
   "source": [
    "### Exercise 1. Using the following list, clean all the elements, the sould be in lowercase and without spaces\n",
    "\n",
    "Hint\n",
    "```python\n",
    "\"bear\" in [\"bear\", \"lion\"]\n",
    "```\n"
   ]
  },
  {
   "cell_type": "code",
   "execution_count": 1,
   "metadata": {},
   "outputs": [],
   "source": [
    "zoo  = ['bEAr ', ' liOn', 'panda', ' zebra', 'chiMpanzee ', \n",
    "        'goRIlla', 'ORangUtan ', 'gIbbon', 'giBBon ', 'beAr', 'lIon ', 'paNda ' ]"
   ]
  },
  {
   "cell_type": "code",
   "execution_count": 2,
   "metadata": {},
   "outputs": [
    {
     "data": {
      "text/plain": [
       "['bear',\n",
       " 'lion',\n",
       " 'panda',\n",
       " 'zebra',\n",
       " 'chimpanzee',\n",
       " 'gorilla',\n",
       " 'orangutan',\n",
       " 'gibbon',\n",
       " 'gibbon',\n",
       " 'bear',\n",
       " 'lion',\n",
       " 'panda']"
      ]
     },
     "execution_count": 2,
     "metadata": {},
     "output_type": "execute_result"
    }
   ],
   "source": []
  },
  {
   "cell_type": "markdown",
   "metadata": {},
   "source": [
    "### Exercise 2. Using the following list, create a list containing the unique values, i.e. no duplicates, name it `zoo_unique`\n",
    "\n",
    "Hint\n",
    "```python\n",
    "\"bear\" in [\"bear\", \"lion\"]\n",
    "```\n"
   ]
  },
  {
   "cell_type": "code",
   "execution_count": 3,
   "metadata": {},
   "outputs": [],
   "source": []
  },
  {
   "cell_type": "code",
   "execution_count": 4,
   "metadata": {},
   "outputs": [
    {
     "data": {
      "text/plain": [
       "['bear',\n",
       " 'lion',\n",
       " 'panda',\n",
       " 'zebra',\n",
       " 'chimpanzee',\n",
       " 'gorilla',\n",
       " 'orangutan',\n",
       " 'gibbon']"
      ]
     },
     "execution_count": 4,
     "metadata": {},
     "output_type": "execute_result"
    }
   ],
   "source": []
  },
  {
   "cell_type": "markdown",
   "metadata": {},
   "source": [
    "### Exercise 3. Crea a function that takes a string ex. 'bear' and return it with the first letter in uppercase 'Bear'\n",
    "\n",
    "```python\n",
    "def capitalize(string):\n",
    "    # reuturn the first letter in capital\n",
    "```\n"
   ]
  },
  {
   "cell_type": "code",
   "execution_count": 5,
   "metadata": {},
   "outputs": [],
   "source": []
  },
  {
   "cell_type": "markdown",
   "metadata": {},
   "source": [
    "### Exercise 4. Apply the previous function to all the elements in `zoo_unique`"
   ]
  },
  {
   "cell_type": "code",
   "execution_count": 6,
   "metadata": {},
   "outputs": [
    {
     "data": {
      "text/plain": [
       "['Bear',\n",
       " 'Lion',\n",
       " 'Panda',\n",
       " 'Zebra',\n",
       " 'Chimpanzee',\n",
       " 'Gorilla',\n",
       " 'Orangutan',\n",
       " 'Gibbon']"
      ]
     },
     "execution_count": 6,
     "metadata": {},
     "output_type": "execute_result"
    }
   ],
   "source": []
  },
  {
   "cell_type": "markdown",
   "metadata": {},
   "source": [
    "### Exercise 5. Merge all elements in alphabetical order in the list separated by '-'\n",
    "Hint\n",
    "```python\n",
    "'-'.join\n",
    "```"
   ]
  },
  {
   "cell_type": "code",
   "execution_count": 7,
   "metadata": {},
   "outputs": [
    {
     "data": {
      "text/plain": [
       "'Bear-Chimpanzee-Gibbon-Gorilla-Lion-Orangutan-Panda-Zebra'"
      ]
     },
     "execution_count": 7,
     "metadata": {},
     "output_type": "execute_result"
    }
   ],
   "source": []
  },
  {
   "cell_type": "markdown",
   "metadata": {},
   "source": [
    "### Exercise 6. Replicate the function of `join` without using it, use a foor loop"
   ]
  },
  {
   "cell_type": "code",
   "execution_count": 8,
   "metadata": {},
   "outputs": [
    {
     "data": {
      "text/plain": [
       "'Bear-Chimpanzee-Gibbon-Gorilla-Lion-Orangutan-Panda-Zebra'"
      ]
     },
     "execution_count": 8,
     "metadata": {},
     "output_type": "execute_result"
    }
   ],
   "source": []
  },
  {
   "cell_type": "markdown",
   "metadata": {},
   "source": [
    "### Exercise 7. Capitalize each element in the following list using a list comprehension"
   ]
  },
  {
   "cell_type": "code",
   "execution_count": 9,
   "metadata": {},
   "outputs": [],
   "source": [
    "zoo  = ['bEAr ', ' liOn', 'panda', ' zebra', 'chiMpanzee ', \n",
    "        'goRIlla', 'ORangUtan ', 'gIbbon']"
   ]
  },
  {
   "cell_type": "code",
   "execution_count": 10,
   "metadata": {},
   "outputs": [
    {
     "data": {
      "text/plain": [
       "['Bear',\n",
       " 'Lion',\n",
       " 'Panda',\n",
       " 'Zebra',\n",
       " 'Chimpanzee',\n",
       " 'Gorilla',\n",
       " 'Orangutan',\n",
       " 'Gibbon']"
      ]
     },
     "execution_count": 10,
     "metadata": {},
     "output_type": "execute_result"
    }
   ],
   "source": []
  },
  {
   "cell_type": "markdown",
   "metadata": {},
   "source": [
    "### Exercise 8. Remove blanks elements"
   ]
  },
  {
   "cell_type": "code",
   "execution_count": 11,
   "metadata": {},
   "outputs": [],
   "source": [
    "zoo = ['Bear','Lion', '', 'Panda', 'Zebra', '', 'Chimpanzee', 'Gorilla', '  ', 'Orangutan', 'Gibbon', '']"
   ]
  },
  {
   "cell_type": "code",
   "execution_count": 12,
   "metadata": {},
   "outputs": [
    {
     "data": {
      "text/plain": [
       "['Bear',\n",
       " 'Lion',\n",
       " 'Panda',\n",
       " 'Zebra',\n",
       " 'Chimpanzee',\n",
       " 'Gorilla',\n",
       " 'Orangutan',\n",
       " 'Gibbon']"
      ]
     },
     "execution_count": 12,
     "metadata": {},
     "output_type": "execute_result"
    }
   ],
   "source": []
  },
  {
   "cell_type": "code",
   "execution_count": 13,
   "metadata": {},
   "outputs": [],
   "source": [
    "zoo = ['Bear','Lion', '', 'Panda', 'Zebra', '', 'Chimpanzee', 'Gorilla', '  ', 'Orangutan', 'Gibbon', '']"
   ]
  },
  {
   "cell_type": "code",
   "execution_count": 14,
   "metadata": {},
   "outputs": [
    {
     "data": {
      "text/plain": [
       "['Bear',\n",
       " 'Lion',\n",
       " 'Panda',\n",
       " 'Zebra',\n",
       " 'Chimpanzee',\n",
       " 'Gorilla',\n",
       " 'Orangutan',\n",
       " 'Gibbon']"
      ]
     },
     "execution_count": 14,
     "metadata": {},
     "output_type": "execute_result"
    }
   ],
   "source": []
  },
  {
   "cell_type": "markdown",
   "metadata": {},
   "source": [
    "### Exercise 9. Filter those elements that starts with a b or ends witha a"
   ]
  },
  {
   "cell_type": "code",
   "execution_count": 15,
   "metadata": {},
   "outputs": [],
   "source": [
    "zoo = ['Bear','Lion', 'Panda', 'Zebra', 'Chimpanzee', 'Gorilla', 'Orangutan', 'Gibbon']"
   ]
  },
  {
   "cell_type": "code",
   "execution_count": 16,
   "metadata": {},
   "outputs": [
    {
     "data": {
      "text/plain": [
       "['Bear']"
      ]
     },
     "execution_count": 16,
     "metadata": {},
     "output_type": "execute_result"
    }
   ],
   "source": []
  },
  {
   "cell_type": "code",
   "execution_count": 17,
   "metadata": {},
   "outputs": [
    {
     "data": {
      "text/plain": [
       "['Panda', 'Zebra', 'Gorilla']"
      ]
     },
     "execution_count": 17,
     "metadata": {},
     "output_type": "execute_result"
    }
   ],
   "source": []
  },
  {
   "cell_type": "markdown",
   "metadata": {},
   "source": [
    "### Exercise 10. Filter those elements that have more than 5 letters\n",
    "```python\n",
    "['Bear','Lion', 'Panda', 'Zebra', 'Chimpanzee', 'Gorilla', 'Orangutan', 'Gibbon']\n",
    "['Chimpanzee', 'Gorilla', 'Orangutan', 'Gibbon']\n",
    "\n",
    "```\n"
   ]
  },
  {
   "cell_type": "code",
   "execution_count": 18,
   "metadata": {},
   "outputs": [
    {
     "data": {
      "text/plain": [
       "['Chimpanzee', 'Gorilla', 'Orangutan', 'Gibbon']"
      ]
     },
     "execution_count": 18,
     "metadata": {},
     "output_type": "execute_result"
    }
   ],
   "source": []
  }
 ],
 "metadata": {
  "kernelspec": {
   "display_name": "Python 3",
   "language": "python",
   "name": "python3"
  },
  "language_info": {
   "codemirror_mode": {
    "name": "ipython",
    "version": 3
   },
   "file_extension": ".py",
   "mimetype": "text/x-python",
   "name": "python",
   "nbconvert_exporter": "python",
   "pygments_lexer": "ipython3",
   "version": "3.8.3"
  }
 },
 "nbformat": 4,
 "nbformat_minor": 4
}
