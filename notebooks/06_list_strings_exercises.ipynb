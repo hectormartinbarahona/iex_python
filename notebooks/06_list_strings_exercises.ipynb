{
 "cells": [
  {
   "cell_type": "markdown",
   "metadata": {},
   "source": [
    "### Exercise 1. Using the following list, clean all the elements, the sould be in lowercase and without spaces\n",
    "\n",
    "Hint\n",
    "```python\n",
    "\"bear\" in [\"bear\", \"lion\"]\n",
    "```\n"
   ]
  },
  {
   "cell_type": "code",
   "execution_count": 112,
   "metadata": {},
   "outputs": [],
   "source": [
    "zoo  = ['bEAr ', ' liOn', 'panda', ' zebra', 'chiMpanzee ', \n",
    "        'goRIlla', 'ORangUtan ', 'gIbbon', 'giBBon ', 'beAr', 'lIon ', 'paNda ' ]"
   ]
  },
  {
   "cell_type": "code",
   "execution_count": 113,
   "metadata": {},
   "outputs": [
    {
     "data": {
      "text/plain": [
       "['bear',\n",
       " 'lion',\n",
       " 'panda',\n",
       " 'zebra',\n",
       " 'chimpanzee',\n",
       " 'gorilla',\n",
       " 'orangutan',\n",
       " 'gibbon',\n",
       " 'gibbon',\n",
       " 'bear',\n",
       " 'lion',\n",
       " 'panda']"
      ]
     },
     "execution_count": 113,
     "metadata": {},
     "output_type": "execute_result"
    }
   ],
   "source": [
    "zoo = [i.lower().strip() for i in zoo]\n",
    "zoo"
   ]
  },
  {
   "cell_type": "markdown",
   "metadata": {},
   "source": [
    "### Exercise 2. Using the following list, create a list containing the unique values, i.e. no duplicates, name it `zoo_unique`\n",
    "\n",
    "Hint\n",
    "```python\n",
    "\"bear\" in [\"bear\", \"lion\"]\n",
    "```\n"
   ]
  },
  {
   "cell_type": "code",
   "execution_count": 114,
   "metadata": {},
   "outputs": [],
   "source": [
    "zoo_unique = list()\n",
    "for i in zoo:\n",
    "    if i not in zoo_unique:\n",
    "        zoo_unique.append(i)"
   ]
  },
  {
   "cell_type": "code",
   "execution_count": 115,
   "metadata": {},
   "outputs": [
    {
     "data": {
      "text/plain": [
       "['bear',\n",
       " 'lion',\n",
       " 'panda',\n",
       " 'zebra',\n",
       " 'chimpanzee',\n",
       " 'gorilla',\n",
       " 'orangutan',\n",
       " 'gibbon']"
      ]
     },
     "execution_count": 115,
     "metadata": {},
     "output_type": "execute_result"
    }
   ],
   "source": [
    "zoo_unique"
   ]
  },
  {
   "cell_type": "markdown",
   "metadata": {},
   "source": [
    "### Exercise 3. Crea a function that takes a string ex. 'bear' and return it with the first letter in uppercase 'Bear'\n",
    "\n",
    "```python\n",
    "def capitalize(string):\n",
    "    # reuturn the first letter in capital\n",
    "```\n"
   ]
  },
  {
   "cell_type": "code",
   "execution_count": 116,
   "metadata": {},
   "outputs": [],
   "source": [
    "def capitalize(string):\n",
    "    string_clean = string.strip()\n",
    "    return string_clean[0].upper().strip() + string_clean[1:].lower().strip()"
   ]
  },
  {
   "cell_type": "markdown",
   "metadata": {},
   "source": [
    "### Exercise 4. Apply the previous function to all the elements in `zoo_unique`"
   ]
  },
  {
   "cell_type": "code",
   "execution_count": 117,
   "metadata": {},
   "outputs": [
    {
     "data": {
      "text/plain": [
       "['Bear',\n",
       " 'Lion',\n",
       " 'Panda',\n",
       " 'Zebra',\n",
       " 'Chimpanzee',\n",
       " 'Gorilla',\n",
       " 'Orangutan',\n",
       " 'Gibbon']"
      ]
     },
     "execution_count": 117,
     "metadata": {},
     "output_type": "execute_result"
    }
   ],
   "source": [
    "zoo_unique = [capitalize(i) for i in zoo_unique]\n",
    "zoo_unique"
   ]
  },
  {
   "cell_type": "markdown",
   "metadata": {},
   "source": [
    "### Exercise 5. Merge all elements in alphabetical order in the list separated by '-'\n",
    "Hint\n",
    "```python\n",
    "'-'.join\n",
    "```"
   ]
  },
  {
   "cell_type": "code",
   "execution_count": 118,
   "metadata": {},
   "outputs": [
    {
     "data": {
      "text/plain": [
       "'Bear-Chimpanzee-Gibbon-Gorilla-Lion-Orangutan-Panda-Zebra'"
      ]
     },
     "execution_count": 118,
     "metadata": {},
     "output_type": "execute_result"
    }
   ],
   "source": [
    "'-'.join(sorted(zoo_unique))"
   ]
  },
  {
   "cell_type": "markdown",
   "metadata": {},
   "source": [
    "### Exercise 6. Replicate the function of `join` without using it, use a foor loop"
   ]
  },
  {
   "cell_type": "code",
   "execution_count": 119,
   "metadata": {},
   "outputs": [
    {
     "data": {
      "text/plain": [
       "'Bear-Chimpanzee-Gibbon-Gorilla-Lion-Orangutan-Panda-Zebra'"
      ]
     },
     "execution_count": 119,
     "metadata": {},
     "output_type": "execute_result"
    }
   ],
   "source": [
    "join  = ''\n",
    "for i in range(0,len(zoo_unique)):\n",
    "    word = sorted(zoo_unique)[i]\n",
    "    if i>0:\n",
    "        join += '-' + word\n",
    "    else:\n",
    "        join += word\n",
    "join"
   ]
  },
  {
   "cell_type": "markdown",
   "metadata": {},
   "source": [
    "### Exercise 7. Capitalize each element in the following list using a list comprehension"
   ]
  },
  {
   "cell_type": "code",
   "execution_count": 120,
   "metadata": {},
   "outputs": [],
   "source": [
    "zoo  = ['bEAr ', ' liOn', 'panda', ' zebra', 'chiMpanzee ', \n",
    "        'goRIlla', 'ORangUtan ', 'gIbbon']"
   ]
  },
  {
   "cell_type": "code",
   "execution_count": 121,
   "metadata": {},
   "outputs": [
    {
     "data": {
      "text/plain": [
       "['Bear',\n",
       " 'Lion',\n",
       " 'Panda',\n",
       " 'Zebra',\n",
       " 'Chimpanzee',\n",
       " 'Gorilla',\n",
       " 'Orangutan',\n",
       " 'Gibbon']"
      ]
     },
     "execution_count": 121,
     "metadata": {},
     "output_type": "execute_result"
    }
   ],
   "source": [
    "[capitalize(i) for i in zoo]"
   ]
  },
  {
   "cell_type": "markdown",
   "metadata": {},
   "source": [
    "### Exercise 8. Remove blanks elements"
   ]
  },
  {
   "cell_type": "code",
   "execution_count": 122,
   "metadata": {},
   "outputs": [],
   "source": [
    "zoo = ['Bear','Lion', '', 'Panda', 'Zebra', '', 'Chimpanzee', 'Gorilla', '  ', 'Orangutan', 'Gibbon', '']"
   ]
  },
  {
   "cell_type": "code",
   "execution_count": 123,
   "metadata": {},
   "outputs": [
    {
     "data": {
      "text/plain": [
       "['Bear',\n",
       " 'Lion',\n",
       " 'Panda',\n",
       " 'Zebra',\n",
       " 'Chimpanzee',\n",
       " 'Gorilla',\n",
       " 'Orangutan',\n",
       " 'Gibbon']"
      ]
     },
     "execution_count": 123,
     "metadata": {},
     "output_type": "execute_result"
    }
   ],
   "source": [
    "for i in zoo:\n",
    "    if i.strip() == '':\n",
    "        zoo.remove(i)\n",
    "zoo"
   ]
  },
  {
   "cell_type": "code",
   "execution_count": 124,
   "metadata": {},
   "outputs": [],
   "source": [
    "zoo = ['Bear','Lion', '', 'Panda', 'Zebra', '', 'Chimpanzee', 'Gorilla', '  ', 'Orangutan', 'Gibbon', '']"
   ]
  },
  {
   "cell_type": "code",
   "execution_count": 125,
   "metadata": {},
   "outputs": [
    {
     "data": {
      "text/plain": [
       "['Bear',\n",
       " 'Lion',\n",
       " 'Panda',\n",
       " 'Zebra',\n",
       " 'Chimpanzee',\n",
       " 'Gorilla',\n",
       " 'Orangutan',\n",
       " 'Gibbon']"
      ]
     },
     "execution_count": 125,
     "metadata": {},
     "output_type": "execute_result"
    }
   ],
   "source": [
    "zoo = [i for i in zoo if i.strip() != '']\n",
    "zoo"
   ]
  },
  {
   "cell_type": "markdown",
   "metadata": {},
   "source": [
    "### Exercise 9. Filter those elements that starts with a b or ends witha a"
   ]
  },
  {
   "cell_type": "code",
   "execution_count": 126,
   "metadata": {},
   "outputs": [],
   "source": [
    "zoo = ['Bear','Lion', 'Panda', 'Zebra', 'Chimpanzee', 'Gorilla', 'Orangutan', 'Gibbon']"
   ]
  },
  {
   "cell_type": "code",
   "execution_count": 127,
   "metadata": {},
   "outputs": [
    {
     "data": {
      "text/plain": [
       "['Bear']"
      ]
     },
     "execution_count": 127,
     "metadata": {},
     "output_type": "execute_result"
    }
   ],
   "source": [
    "[i for i in zoo if i.strip() if i.lower().startswith('b')]"
   ]
  },
  {
   "cell_type": "code",
   "execution_count": 128,
   "metadata": {},
   "outputs": [
    {
     "data": {
      "text/plain": [
       "['Panda', 'Zebra', 'Gorilla']"
      ]
     },
     "execution_count": 128,
     "metadata": {},
     "output_type": "execute_result"
    }
   ],
   "source": [
    "[i for i in zoo if i.strip() if i.lower().endswith('a')]"
   ]
  },
  {
   "cell_type": "markdown",
   "metadata": {},
   "source": [
    "### Exercise 10. Filter those elements that have more than 5 letters\n",
    "```python\n",
    "['Bear','Lion', 'Panda', 'Zebra', 'Chimpanzee', 'Gorilla', 'Orangutan', 'Gibbon']\n",
    "['Chimpanzee', 'Gorilla', 'Orangutan', 'Gibbon']\n",
    "\n",
    "```\n"
   ]
  },
  {
   "cell_type": "code",
   "execution_count": 129,
   "metadata": {},
   "outputs": [
    {
     "data": {
      "text/plain": [
       "['Chimpanzee', 'Gorilla', 'Orangutan', 'Gibbon']"
      ]
     },
     "execution_count": 129,
     "metadata": {},
     "output_type": "execute_result"
    }
   ],
   "source": [
    "[i for i in zoo if len(i)> 5]"
   ]
  }
 ],
 "metadata": {
  "kernelspec": {
   "display_name": "Python 3",
   "language": "python",
   "name": "python3"
  },
  "language_info": {
   "codemirror_mode": {
    "name": "ipython",
    "version": 3
   },
   "file_extension": ".py",
   "mimetype": "text/x-python",
   "name": "python",
   "nbconvert_exporter": "python",
   "pygments_lexer": "ipython3",
   "version": "3.8.3"
  }
 },
 "nbformat": 4,
 "nbformat_minor": 4
}
